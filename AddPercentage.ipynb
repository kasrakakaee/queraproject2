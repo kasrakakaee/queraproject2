{
 "cells": [
  {
   "cell_type": "code",
   "execution_count": 1,
   "metadata": {},
   "outputs": [],
   "source": [
    "import pandas as pd"
   ]
  },
  {
   "cell_type": "code",
   "execution_count": null,
   "metadata": {},
   "outputs": [],
   "source": [
    "df = pd.read_csv(\"./df_train.csv\")\n",
    "df['GoldChangePercent'] = df['GC=F Close'].pct_change()\n",
    "df['GSPCChangePercent'] = df['^GSPC Close'].pct_change()\n",
    "df['SilverChangePercent'] = df['HG=F Close'].pct_change()\n",
    "df['EthChangePercent'] = df['ETH-USD Close'].pct_change()\n",
    "df['BtcChanePercent'] = df['BTC-USD Close'].pct_change()\n",
    "cols = ['Date', 'XMR-USD Open', 'XMR-USD High', 'XMR-USD Low', 'XMR-USD Close',\n",
    "       'XMR-USD Volume', 'Change', 'Percentage Change', 'Increase', 'Target',\n",
    "       'RSI', 'SMA', 'EMA', 'GC=F Open', 'GC=F High', 'GC=F Low', 'GC=F Close',\n",
    "       'GC=F Volume', 'GoldChangePercent', '^GSPC Open', '^GSPC High', '^GSPC Low', '^GSPC Close',\n",
    "       '^GSPC Volume', 'GSPCChangePercent', 'HG=F Open', 'HG=F High', 'HG=F Low', 'HG=F Close',\n",
    "       'HG=F Volume', 'SilverChangePercent', 'ETH-USD Open', 'ETH-USD High', 'ETH-USD Low',\n",
    "       'ETH-USD Close', 'ETH-USD Volume',\n",
    "       'EthChangePercent' , 'BTC-USD Open', 'BTC-USD High',\n",
    "       'BTC-USD Low', 'BTC-USD Close', 'BTC-USD Volume', 'BtcChanePercent'\n",
    "       ]\n",
    "df = df[cols]\n",
    "df.columns\n",
    "df.to_csv('./train.csv')"
   ]
  },
  {
   "cell_type": "code",
   "execution_count": null,
   "metadata": {},
   "outputs": [],
   "source": [
    "df = pd.read_csv(\"./df_validation.csv\")\n",
    "df['GoldChangePercent'] = df['GC=F Close'].pct_change()\n",
    "df['GSPCChangePercent'] = df['^GSPC Close'].pct_change()\n",
    "df['SilverChangePercent'] = df['HG=F Close'].pct_change()\n",
    "df['EthChangePercent'] = df['ETH-USD Close'].pct_change()\n",
    "df['BtcChanePercent'] = df['BTC-USD Close'].pct_change()\n",
    "cols = ['Date', 'XMR-USD Open', 'XMR-USD High', 'XMR-USD Low', 'XMR-USD Close',\n",
    "       'XMR-USD Volume', 'Change', 'Percentage Change', 'Increase', 'Target',\n",
    "       'RSI', 'SMA', 'EMA', 'GC=F Open', 'GC=F High', 'GC=F Low', 'GC=F Close',\n",
    "       'GC=F Volume', 'GoldChangePercent', '^GSPC Open', '^GSPC High', '^GSPC Low', '^GSPC Close',\n",
    "       '^GSPC Volume', 'GSPCChangePercent', 'HG=F Open', 'HG=F High', 'HG=F Low', 'HG=F Close',\n",
    "       'HG=F Volume', 'SilverChangePercent', 'ETH-USD Open', 'ETH-USD High', 'ETH-USD Low',\n",
    "       'ETH-USD Close', 'ETH-USD Volume',\n",
    "       'EthChangePercent' , 'BTC-USD Open', 'BTC-USD High',\n",
    "       'BTC-USD Low', 'BTC-USD Close', 'BTC-USD Volume', 'BtcChanePercent'\n",
    "       ]\n",
    "df = df[cols]\n",
    "df.to_csv('./test.csv')"
   ]
  }
 ],
 "metadata": {
  "kernelspec": {
   "display_name": "Python 3 (ipykernel)",
   "name": "python3"
  },
  "language_info": {
   "codemirror_mode": {
    "name": "ipython",
    "version": 3
   },
   "file_extension": ".py",
   "mimetype": "text/x-python",
   "name": "python",
   "nbconvert_exporter": "python",
   "pygments_lexer": "ipython3",
   "version": "3.9.17"
  },
  "orig_nbformat": 2
 },
 "nbformat": 4,
 "nbformat_minor": 2
}