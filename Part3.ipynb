{
 "cells": [
  {
   "cell_type": "code",
   "execution_count": 1,
   "metadata": {},
   "outputs": [],
   "source": [
    "import numpy as np\n",
    "import pandas as pd\n",
    "import yfinance as yf\n",
    "import matplotlib.pyplot as plt"
   ]
  },
  {
   "cell_type": "code",
   "execution_count": 2,
   "metadata": {},
   "outputs": [
    {
     "name": "stdout",
     "output_type": "stream",
     "text": [
      "[*********************100%%**********************]  6 of 6 completed\n"
     ]
    }
   ],
   "source": [
    "StartDate = \"2017-11-09\"\n",
    "EndDate = \"2023-10-17\"\n",
    "\n",
    "df = yf.download(\"BTC-USD ETH-USD XMR-USD GC=F HG=F ^GSPC\", start=StartDate, end=EndDate, group_by='tickers')\n",
    "df.drop('Adj Close', axis=1, level=1, inplace=True)\n",
    "df.columns = df.columns.map(' '.join).str.strip(' ')"
   ]
  },
  {
   "cell_type": "code",
   "execution_count": 3,
   "metadata": {},
   "outputs": [],
   "source": [
    "df_train = df[df.index < pd.to_datetime('2023-09-08')]\n",
    "df_test = df[(df.index > pd.to_datetime('2023-09-07')) & (df.index < pd.to_datetime('2023-10-09'))]"
   ]
  },
  {
   "cell_type": "code",
   "execution_count": 4,
   "metadata": {},
   "outputs": [],
   "source": [
    "from sklearn.impute import SimpleImputer\n",
    "imputer = SimpleImputer()\n",
    "df_imputed_train = pd.DataFrame(imputer.fit_transform(df_train), columns=df_train.columns, index=df_train.index)\n",
    "df_imputed_test = pd.DataFrame(imputer.transform(df_test), columns=df_test.columns, index=df_test.index)"
   ]
  },
  {
   "cell_type": "code",
   "execution_count": 5,
   "metadata": {},
   "outputs": [],
   "source": [
    "df_imputed_concat = pd.concat([df_imputed_train, df_imputed_test])"
   ]
  },
  {
   "cell_type": "code",
   "execution_count": 6,
   "metadata": {},
   "outputs": [],
   "source": [
    "close_list = ['^GSPC Close', 'HG=F Close', 'GC=F Close', 'XMR-USD Close', 'BTC-USD Close', 'ETH-USD Close']\n",
    "for cols in close_list:\n",
    "    col_name = cols.replace(' Close', '')\n",
    "    df_imputed_concat[f'{col_name} Change'] = df_imputed_concat[cols].diff()\n",
    "    df_imputed_concat[f'{col_name} Percentage Change'] = df_imputed_concat[cols].pct_change()\n",
    "\n",
    "    change_up = df_imputed_concat[f'{col_name} Change'].copy()\n",
    "    change_down = df_imputed_concat[f'{col_name} Change'].copy()\n",
    "    \n",
    "    change_up[change_up<0] = 0\n",
    "    change_down[change_down>0] = 0\n",
    "    \n",
    "    avg_up = change_up.rolling(14).mean()\n",
    "    avg_down = change_down.rolling(14).mean().abs()\n",
    "    \n",
    "    df_imputed_concat[f'{col_name} RSI'] = 100 * avg_up / (avg_up + avg_down)\n",
    "    df_imputed_concat.drop(columns=f'{col_name} Change', inplace=True)\n",
    "\n",
    "df_imputed_concat['Target'] = df_imputed_concat['XMR-USD Percentage Change'].shift(-1).apply(lambda x: 0 if x < 0 else 1)\n",
    "df_imputed_concat.dropna(inplace=True)"
   ]
  },
  {
   "cell_type": "code",
   "execution_count": 7,
   "metadata": {},
   "outputs": [],
   "source": [
    "train = df_imputed_concat[df_imputed_concat.index < pd.to_datetime('2023-09-08')]\n",
    "test = df_imputed_concat[(df_imputed_concat.index > pd.to_datetime('2023-09-07')) & (df_imputed_concat.index < pd.to_datetime('2023-10-08'))]"
   ]
  },
  {
   "cell_type": "code",
   "execution_count": 10,
   "metadata": {},
   "outputs": [],
   "source": [
    "if input('Enter 1 to save data to CSV files') == '1':\n",
    "    train.to_csv('Train.csv')\n",
    "    test.to_csv('Test.csv')"
   ]
  },
  {
   "cell_type": "markdown",
   "metadata": {},
   "source": [
    "Data collected and processed"
   ]
  },
  {
   "cell_type": "code",
   "execution_count": 12,
   "metadata": {},
   "outputs": [],
   "source": [
    "# Prepare data for the model\n",
    "from sklearn.model_selection import train_test_split\n",
    "from sklearn.preprocessing import StandardScaler\n",
    "\n",
    "X = train.drop(columns='Target')\n",
    "y = train['Target']\n",
    "\n",
    "X_train, X_validation, y_train, y_validation = train_test_split(X, y, test_size=0.1, random_state=13)\n",
    "std_scaler = StandardScaler()\n",
    "X_train = std_scaler.fit_transform(X_train)\n",
    "X_validation = std_scaler.transform(X_validation)"
   ]
  },
  {
   "cell_type": "markdown",
   "metadata": {},
   "source": [
    "Using RandomForest moodel"
   ]
  },
  {
   "cell_type": "code",
   "execution_count": 13,
   "metadata": {},
   "outputs": [
    {
     "data": {
      "text/html": "<style>#sk-container-id-1 {color: black;}#sk-container-id-1 pre{padding: 0;}#sk-container-id-1 div.sk-toggleable {background-color: white;}#sk-container-id-1 label.sk-toggleable__label {cursor: pointer;display: block;width: 100%;margin-bottom: 0;padding: 0.3em;box-sizing: border-box;text-align: center;}#sk-container-id-1 label.sk-toggleable__label-arrow:before {content: \"▸\";float: left;margin-right: 0.25em;color: #696969;}#sk-container-id-1 label.sk-toggleable__label-arrow:hover:before {color: black;}#sk-container-id-1 div.sk-estimator:hover label.sk-toggleable__label-arrow:before {color: black;}#sk-container-id-1 div.sk-toggleable__content {max-height: 0;max-width: 0;overflow: hidden;text-align: left;background-color: #f0f8ff;}#sk-container-id-1 div.sk-toggleable__content pre {margin: 0.2em;color: black;border-radius: 0.25em;background-color: #f0f8ff;}#sk-container-id-1 input.sk-toggleable__control:checked~div.sk-toggleable__content {max-height: 200px;max-width: 100%;overflow: auto;}#sk-container-id-1 input.sk-toggleable__control:checked~label.sk-toggleable__label-arrow:before {content: \"▾\";}#sk-container-id-1 div.sk-estimator input.sk-toggleable__control:checked~label.sk-toggleable__label {background-color: #d4ebff;}#sk-container-id-1 div.sk-label input.sk-toggleable__control:checked~label.sk-toggleable__label {background-color: #d4ebff;}#sk-container-id-1 input.sk-hidden--visually {border: 0;clip: rect(1px 1px 1px 1px);clip: rect(1px, 1px, 1px, 1px);height: 1px;margin: -1px;overflow: hidden;padding: 0;position: absolute;width: 1px;}#sk-container-id-1 div.sk-estimator {font-family: monospace;background-color: #f0f8ff;border: 1px dotted black;border-radius: 0.25em;box-sizing: border-box;margin-bottom: 0.5em;}#sk-container-id-1 div.sk-estimator:hover {background-color: #d4ebff;}#sk-container-id-1 div.sk-parallel-item::after {content: \"\";width: 100%;border-bottom: 1px solid gray;flex-grow: 1;}#sk-container-id-1 div.sk-label:hover label.sk-toggleable__label {background-color: #d4ebff;}#sk-container-id-1 div.sk-serial::before {content: \"\";position: absolute;border-left: 1px solid gray;box-sizing: border-box;top: 0;bottom: 0;left: 50%;z-index: 0;}#sk-container-id-1 div.sk-serial {display: flex;flex-direction: column;align-items: center;background-color: white;padding-right: 0.2em;padding-left: 0.2em;position: relative;}#sk-container-id-1 div.sk-item {position: relative;z-index: 1;}#sk-container-id-1 div.sk-parallel {display: flex;align-items: stretch;justify-content: center;background-color: white;position: relative;}#sk-container-id-1 div.sk-item::before, #sk-container-id-1 div.sk-parallel-item::before {content: \"\";position: absolute;border-left: 1px solid gray;box-sizing: border-box;top: 0;bottom: 0;left: 50%;z-index: -1;}#sk-container-id-1 div.sk-parallel-item {display: flex;flex-direction: column;z-index: 1;position: relative;background-color: white;}#sk-container-id-1 div.sk-parallel-item:first-child::after {align-self: flex-end;width: 50%;}#sk-container-id-1 div.sk-parallel-item:last-child::after {align-self: flex-start;width: 50%;}#sk-container-id-1 div.sk-parallel-item:only-child::after {width: 0;}#sk-container-id-1 div.sk-dashed-wrapped {border: 1px dashed gray;margin: 0 0.4em 0.5em 0.4em;box-sizing: border-box;padding-bottom: 0.4em;background-color: white;}#sk-container-id-1 div.sk-label label {font-family: monospace;font-weight: bold;display: inline-block;line-height: 1.2em;}#sk-container-id-1 div.sk-label-container {text-align: center;}#sk-container-id-1 div.sk-container {/* jupyter's `normalize.less` sets `[hidden] { display: none; }` but bootstrap.min.css set `[hidden] { display: none !important; }` so we also need the `!important` here to be able to override the default hidden behavior on the sphinx rendered scikit-learn.org. See: https://github.com/scikit-learn/scikit-learn/issues/21755 */display: inline-block !important;position: relative;}#sk-container-id-1 div.sk-text-repr-fallback {display: none;}</style><div id=\"sk-container-id-1\" class=\"sk-top-container\"><div class=\"sk-text-repr-fallback\"><pre>RandomForestClassifier(random_state=1)</pre><b>In a Jupyter environment, please rerun this cell to show the HTML representation or trust the notebook. <br />On GitHub, the HTML representation is unable to render, please try loading this page with nbviewer.org.</b></div><div class=\"sk-container\" hidden><div class=\"sk-item\"><div class=\"sk-estimator sk-toggleable\"><input class=\"sk-toggleable__control sk-hidden--visually\" id=\"sk-estimator-id-1\" type=\"checkbox\" checked><label for=\"sk-estimator-id-1\" class=\"sk-toggleable__label sk-toggleable__label-arrow\">RandomForestClassifier</label><div class=\"sk-toggleable__content\"><pre>RandomForestClassifier(random_state=1)</pre></div></div></div></div></div>",
      "text/plain": "RandomForestClassifier(random_state=1)"
     },
     "execution_count": 13,
     "metadata": {},
     "output_type": "execute_result"
    }
   ],
   "source": [
    "# Fit the data\n",
    "from sklearn.ensemble import RandomForestClassifier\n",
    "classifier = RandomForestClassifier(n_estimators=100, criterion='gini', random_state=1)\n",
    "classifier.fit(X_train, y_train)"
   ]
  },
  {
   "cell_type": "code",
   "execution_count": 14,
   "metadata": {},
   "outputs": [
    {
     "name": "stdout",
     "output_type": "stream",
     "text": [
      "Training Data\n",
      "              precision    recall  f1-score   support\n",
      "\n",
      "           0       1.00      1.00      1.00       916\n",
      "           1       1.00      1.00      1.00       987\n",
      "\n",
      "    accuracy                           1.00      1903\n",
      "   macro avg       1.00      1.00      1.00      1903\n",
      "weighted avg       1.00      1.00      1.00      1903\n",
      "\n",
      "Validation Data\n",
      "              precision    recall  f1-score   support\n",
      "\n",
      "           0       0.51      0.49      0.50        91\n",
      "           1       0.63      0.64      0.64       121\n",
      "\n",
      "    accuracy                           0.58       212\n",
      "   macro avg       0.57      0.57      0.57       212\n",
      "weighted avg       0.58      0.58      0.58       212\n",
      "\n",
      "Test Data\n",
      "              precision    recall  f1-score   support\n",
      "\n",
      "           0       0.50      0.42      0.45        12\n",
      "           1       0.65      0.72      0.68        18\n",
      "\n",
      "    accuracy                           0.60        30\n",
      "   macro avg       0.57      0.57      0.57        30\n",
      "weighted avg       0.59      0.60      0.59        30\n",
      "\n",
      "Class 1 predictions : 20\n",
      "Class 0 predictions : 10\n"
     ]
    },
    {
     "data": {
      "image/png": "[encoded data removed]",
      "text/plain": "<Figure size 640x480 with 2 Axes>"
     },
     "metadata": {},
     "output_type": "display_data"
    },
    {
     "data": {
      "image/png": "[encoded data removed]",
      "text/plain": "<Figure size 640x480 with 2 Axes>"
     },
     "metadata": {},
     "output_type": "display_data"
    },
    {
     "data": {
      "image/png": "[encoded data removed]",
      "text/plain": "<Figure size 640x480 with 2 Axes>"
     },
     "metadata": {},
     "output_type": "display_data"
    }
   ],
   "source": [
    "# Training and validation metrics\n",
    "from sklearn.metrics import classification_report\n",
    "from sklearn.metrics import ConfusionMatrixDisplay\n",
    "\n",
    "y_pred_train = classifier.predict(X_train)\n",
    "print(f'Training Data\\n{classification_report(y_train, y_pred_train)}')\n",
    "ConfusionMatrixDisplay.from_estimator(classifier, X_train, y_train, cmap='Blues')\n",
    "y_pred_validation = classifier.predict(X_validation)\n",
    "print(f'Validation Data\\n{classification_report(y_validation, y_pred_validation)}')\n",
    "ConfusionMatrixDisplay.from_estimator(classifier, X_validation, y_validation, cmap='Blues')\n",
    "\n",
    "# test data metrics\n",
    "X_test = test.drop(columns='Target')\n",
    "X_test = std_scaler.transform(X_test)\n",
    "y_test = test['Target']\n",
    "y_pred_test = classifier.predict(X_test)\n",
    "print(f'Test Data\\n{classification_report(y_test, y_pred_test)}')\n",
    "print(f'Class 1 predictions : {len(y_pred_test[y_pred_test == 1])}')\n",
    "print(f'Class 0 predictions : {len(y_pred_test[y_pred_test == 0])}')\n",
    "ConfusionMatrixDisplay.from_estimator(classifier, X_test, y_test, cmap='Blues');"
   ]
  },
  {
   "cell_type": "code",
   "execution_count": 28,
   "metadata": {},
   "outputs": [],
   "source": [
    "# Import libraries\n",
    "import numpy as np\n",
    "import pandas as pd\n",
    "from sklearn.svm import SVC\n",
    "import matplotlib.pyplot as plt\n",
    "from sklearn.preprocessing import StandardScaler\n",
    "from sklearn.model_selection import train_test_split\n",
    "from sklearn.metrics import accuracy_score, precision_score, recall_score, confusion_matrix, f1_score, roc_auc_score, classification_report\n",
    "#df to store metrics\n",
    "metrics_df_valid = pd.DataFrame(columns=['Model', 'Accuracy', 'Precision', 'Recall', 'F1-score', 'AUC-ROC'])\n",
    "metrics_df_test = pd.DataFrame(columns=['Model', 'Accuracy', 'Precision', 'Recall', 'F1-score', 'AUC-ROC'])\n"
   ]
  },
  {
   "cell_type": "code",
   "execution_count": 29,
   "metadata": {},
   "outputs": [],
   "source": [
    "# function to scale the data\n",
    "def scale(X, Y, Z):\n",
    "    scaler = StandardScaler()\n",
    "    X_ = scaler.fit_transform(X)\n",
    "    X__ = scaler.fit_transform(Y)\n",
    "    X___ = scaler.fit_transform(Z)\n",
    "    return X_, X__, X___\n",
    "\n",
    "#function to get the model parameters\n",
    "def info(X, Y, model_name, list_name):    \n",
    "    accuracy = accuracy_score(X, Y)\n",
    "    precision = precision_score(X, Y)\n",
    "    recall = recall_score(X, Y)\n",
    "    f1 = f1_score(X, Y)\n",
    "    auc = roc_auc_score(X, Y)\n",
    "    #print\n",
    "    print(\"Accuracy:\", accuracy)\n",
    "    print(\"Precision:\", precision)\n",
    "    print(\"Recall:\", recall)\n",
    "    print(\"F1-score:\", f1)\n",
    "    print(\"AUC-ROC:\", auc)\n",
    "    print(classification_report(X, Y))\n",
    "\n",
    "    #adding results to the metrics_df\n",
    "    list_name.loc[len(list_name)] = [model_name, accuracy, precision, recall, f1, auc]\n",
    "    \n",
    "    #printing confusion matrix\n",
    "    confusion_mat = confusion_matrix(X, Y)\n",
    "    confusion_df = pd.DataFrame(confusion_mat, index=['Actual Negative', 'Actual Positive'],\n",
    "                             columns=['Predicted Negative', 'Predicted Positive'])\n",
    "    print(confusion_df)\n",
    "\n",
    "#function to train the model\n",
    "def train_model(X, Y, X_test, k=1):\n",
    "    svm = SVC(kernel='linear',C=k)\n",
    "    svm.fit(X, Y)\n",
    "    predicted = svm.predict(X_test)\n",
    "    return predicted"
   ]
  },
  {
   "cell_type": "code",
   "execution_count": 30,
   "metadata": {},
   "outputs": [],
   "source": [
    "# Read the data\n",
    "train = pd.read_csv('./Train.csv')\n",
    "test = pd.read_csv('./Test.csv')\n",
    "\n",
    "#converting date to datetime and then converting to integer\n",
    "train['Date'] = pd.to_datetime(train['Date'])\n",
    "train['Date'] = train['Date'].astype('int64')\n",
    "\n",
    "test['Date'] = pd.to_datetime(test['Date'])\n",
    "test['Date'] = test['Date'].astype('int64')\n",
    "\n",
    "#trainning data\n",
    "x_train = train.drop(\"Target\", axis=1)\n",
    "y_train = train[\"Target\"]\n",
    "\n",
    "#test data\n",
    "x_test = test.drop(\"Target\", axis=1)\n",
    "y_test = test[\"Target\"]\n",
    "\n",
    "#spliting data into train and validation\n",
    "X_train, X_validation, y_train, y_validation = train_test_split(x_train, y_train, test_size=0.2, random_state=15)\n",
    "\n",
    "#scaling the data\n",
    "X_train_scaled, X_validation_scaled, X_test_scaled = scale(X_train, X_validation, x_test)"
   ]
  },
  {
   "cell_type": "markdown",
   "metadata": {},
   "source": [
    "Using SVM model"
   ]
  },
  {
   "cell_type": "code",
   "execution_count": 31,
   "metadata": {},
   "outputs": [
    {
     "data": {
      "text/html": "<style>#sk-container-id-4 {color: black;}#sk-container-id-4 pre{padding: 0;}#sk-container-id-4 div.sk-toggleable {background-color: white;}#sk-container-id-4 label.sk-toggleable__label {cursor: pointer;display: block;width: 100%;margin-bottom: 0;padding: 0.3em;box-sizing: border-box;text-align: center;}#sk-container-id-4 label.sk-toggleable__label-arrow:before {content: \"▸\";float: left;margin-right: 0.25em;color: #696969;}#sk-container-id-4 label.sk-toggleable__label-arrow:hover:before {color: black;}#sk-container-id-4 div.sk-estimator:hover label.sk-toggleable__label-arrow:before {color: black;}#sk-container-id-4 div.sk-toggleable__content {max-height: 0;max-width: 0;overflow: hidden;text-align: left;background-color: #f0f8ff;}#sk-container-id-4 div.sk-toggleable__content pre {margin: 0.2em;color: black;border-radius: 0.25em;background-color: #f0f8ff;}#sk-container-id-4 input.sk-toggleable__control:checked~div.sk-toggleable__content {max-height: 200px;max-width: 100%;overflow: auto;}#sk-container-id-4 input.sk-toggleable__control:checked~label.sk-toggleable__label-arrow:before {content: \"▾\";}#sk-container-id-4 div.sk-estimator input.sk-toggleable__control:checked~label.sk-toggleable__label {background-color: #d4ebff;}#sk-container-id-4 div.sk-label input.sk-toggleable__control:checked~label.sk-toggleable__label {background-color: #d4ebff;}#sk-container-id-4 input.sk-hidden--visually {border: 0;clip: rect(1px 1px 1px 1px);clip: rect(1px, 1px, 1px, 1px);height: 1px;margin: -1px;overflow: hidden;padding: 0;position: absolute;width: 1px;}#sk-container-id-4 div.sk-estimator {font-family: monospace;background-color: #f0f8ff;border: 1px dotted black;border-radius: 0.25em;box-sizing: border-box;margin-bottom: 0.5em;}#sk-container-id-4 div.sk-estimator:hover {background-color: #d4ebff;}#sk-container-id-4 div.sk-parallel-item::after {content: \"\";width: 100%;border-bottom: 1px solid gray;flex-grow: 1;}#sk-container-id-4 div.sk-label:hover label.sk-toggleable__label {background-color: #d4ebff;}#sk-container-id-4 div.sk-serial::before {content: \"\";position: absolute;border-left: 1px solid gray;box-sizing: border-box;top: 0;bottom: 0;left: 50%;z-index: 0;}#sk-container-id-4 div.sk-serial {display: flex;flex-direction: column;align-items: center;background-color: white;padding-right: 0.2em;padding-left: 0.2em;position: relative;}#sk-container-id-4 div.sk-item {position: relative;z-index: 1;}#sk-container-id-4 div.sk-parallel {display: flex;align-items: stretch;justify-content: center;background-color: white;position: relative;}#sk-container-id-4 div.sk-item::before, #sk-container-id-4 div.sk-parallel-item::before {content: \"\";position: absolute;border-left: 1px solid gray;box-sizing: border-box;top: 0;bottom: 0;left: 50%;z-index: -1;}#sk-container-id-4 div.sk-parallel-item {display: flex;flex-direction: column;z-index: 1;position: relative;background-color: white;}#sk-container-id-4 div.sk-parallel-item:first-child::after {align-self: flex-end;width: 50%;}#sk-container-id-4 div.sk-parallel-item:last-child::after {align-self: flex-start;width: 50%;}#sk-container-id-4 div.sk-parallel-item:only-child::after {width: 0;}#sk-container-id-4 div.sk-dashed-wrapped {border: 1px dashed gray;margin: 0 0.4em 0.5em 0.4em;box-sizing: border-box;padding-bottom: 0.4em;background-color: white;}#sk-container-id-4 div.sk-label label {font-family: monospace;font-weight: bold;display: inline-block;line-height: 1.2em;}#sk-container-id-4 div.sk-label-container {text-align: center;}#sk-container-id-4 div.sk-container {/* jupyter's `normalize.less` sets `[hidden] { display: none; }` but bootstrap.min.css set `[hidden] { display: none !important; }` so we also need the `!important` here to be able to override the default hidden behavior on the sphinx rendered scikit-learn.org. See: https://github.com/scikit-learn/scikit-learn/issues/21755 */display: inline-block !important;position: relative;}#sk-container-id-4 div.sk-text-repr-fallback {display: none;}</style><div id=\"sk-container-id-4\" class=\"sk-top-container\"><div class=\"sk-text-repr-fallback\"><pre>SVC(C=0.1, kernel=&#x27;linear&#x27;)</pre><b>In a Jupyter environment, please rerun this cell to show the HTML representation or trust the notebook. <br />On GitHub, the HTML representation is unable to render, please try loading this page with nbviewer.org.</b></div><div class=\"sk-container\" hidden><div class=\"sk-item\"><div class=\"sk-estimator sk-toggleable\"><input class=\"sk-toggleable__control sk-hidden--visually\" id=\"sk-estimator-id-4\" type=\"checkbox\" checked><label for=\"sk-estimator-id-4\" class=\"sk-toggleable__label sk-toggleable__label-arrow\">SVC</label><div class=\"sk-toggleable__content\"><pre>SVC(C=0.1, kernel=&#x27;linear&#x27;)</pre></div></div></div></div></div>",
      "text/plain": "SVC(C=0.1, kernel='linear')"
     },
     "execution_count": 31,
     "metadata": {},
     "output_type": "execute_result"
    }
   ],
   "source": [
    "#training the model\n",
    "#using c = 0.1 as hyperparameter\n",
    "svm = SVC(kernel='linear',C=0.1)\n",
    "svm.fit(X_train_scaled, y_train)"
   ]
  },
  {
   "cell_type": "code",
   "execution_count": 32,
   "metadata": {},
   "outputs": [
    {
     "name": "stdout",
     "output_type": "stream",
     "text": [
      "Accuracy: 0.5271867612293144\n",
      "Precision: 0.5214521452145214\n",
      "Recall: 0.7417840375586855\n",
      "F1-score: 0.6124031007751939\n",
      "AUC-ROC: 0.5256539235412475\n",
      "              precision    recall  f1-score   support\n",
      "\n",
      "           0       0.54      0.31      0.39       210\n",
      "           1       0.52      0.74      0.61       213\n",
      "\n",
      "    accuracy                           0.53       423\n",
      "   macro avg       0.53      0.53      0.50       423\n",
      "weighted avg       0.53      0.53      0.50       423\n",
      "\n",
      "                 Predicted Negative  Predicted Positive\n",
      "Actual Negative                  65                 145\n",
      "Actual Positive                  55                 158\n",
      "\n",
      "________________________________________________________________\n",
      "\n",
      "Accuracy: 0.6666666666666666\n",
      "Precision: 0.6818181818181818\n",
      "Recall: 0.8333333333333334\n",
      "F1-score: 0.7499999999999999\n",
      "AUC-ROC: 0.625\n",
      "              precision    recall  f1-score   support\n",
      "\n",
      "           0       0.62      0.42      0.50        12\n",
      "           1       0.68      0.83      0.75        18\n",
      "\n",
      "    accuracy                           0.67        30\n",
      "   macro avg       0.65      0.62      0.62        30\n",
      "weighted avg       0.66      0.67      0.65        30\n",
      "\n",
      "                 Predicted Negative  Predicted Positive\n",
      "Actual Negative                   5                   7\n",
      "Actual Positive                   3                  15\n"
     ]
    }
   ],
   "source": [
    "#model prediction on validation set\n",
    "predicted = svm.predict(X_validation_scaled)\n",
    "info(y_validation, predicted, 'SVM-linear', metrics_df_valid)\n",
    "\n",
    "print('\\n________________________________________________________________\\n')\n",
    "\n",
    "#model prediction on test set\n",
    "predicted = svm.predict(X_test_scaled)\n",
    "info(y_test, predicted, 'SVM-linear', metrics_df_test)"
   ]
  },
  {
   "cell_type": "markdown",
   "metadata": {},
   "source": [
    "Using QuadraticDiscriminant model"
   ]
  },
  {
   "cell_type": "code",
   "execution_count": 33,
   "metadata": {},
   "outputs": [
    {
     "name": "stdout",
     "output_type": "stream",
     "text": [
      "Accuracy: 0.5437352245862884\n",
      "Precision: 0.5588235294117647\n",
      "Recall: 0.4460093896713615\n",
      "F1-score: 0.49608355091383816\n",
      "AUC-ROC: 0.5444332662642521\n",
      "              precision    recall  f1-score   support\n",
      "\n",
      "           0       0.53      0.64      0.58       210\n",
      "           1       0.56      0.45      0.50       213\n",
      "\n",
      "    accuracy                           0.54       423\n",
      "   macro avg       0.55      0.54      0.54       423\n",
      "weighted avg       0.55      0.54      0.54       423\n",
      "\n",
      "                 Predicted Negative  Predicted Positive\n",
      "Actual Negative                 135                  75\n",
      "Actual Positive                 118                  95\n",
      "Accuracy: 0.36666666666666664\n",
      "Precision: 0.4\n",
      "Recall: 0.1111111111111111\n",
      "F1-score: 0.1739130434782609\n",
      "AUC-ROC: 0.4305555555555556\n",
      "              precision    recall  f1-score   support\n",
      "\n",
      "           0       0.36      0.75      0.49        12\n",
      "           1       0.40      0.11      0.17        18\n",
      "\n",
      "    accuracy                           0.37        30\n",
      "   macro avg       0.38      0.43      0.33        30\n",
      "weighted avg       0.38      0.37      0.30        30\n",
      "\n",
      "                 Predicted Negative  Predicted Positive\n",
      "Actual Negative                   9                   3\n",
      "Actual Positive                  16                   2\n"
     ]
    }
   ],
   "source": [
    "from sklearn.discriminant_analysis import QuadraticDiscriminantAnalysis\n",
    "qda = QuadraticDiscriminantAnalysis()\n",
    "qda.fit(X_train_scaled, y_train)\n",
    "\n",
    "predicted = qda.predict(X_validation_scaled)\n",
    "info(y_validation, predicted, 'QDA', metrics_df_valid)\n",
    "\n",
    "predicted = qda.predict(X_test_scaled)\n",
    "info(y_test, predicted, 'QDA', metrics_df_test)"
   ]
  },
  {
   "cell_type": "markdown",
   "metadata": {},
   "source": [
    "using Logistic Regression"
   ]
  },
  {
   "cell_type": "code",
   "execution_count": 34,
   "metadata": {},
   "outputs": [
    {
     "name": "stdout",
     "output_type": "stream",
     "text": [
      "Accuracy: 0.4728132387706856\n",
      "Precision: 0.48188405797101447\n",
      "Recall: 0.6244131455399061\n",
      "F1-score: 0.5439672801635992\n",
      "AUC-ROC: 0.4717303822937625\n",
      "              precision    recall  f1-score   support\n",
      "\n",
      "           0       0.46      0.32      0.38       210\n",
      "           1       0.48      0.62      0.54       213\n",
      "\n",
      "    accuracy                           0.47       423\n",
      "   macro avg       0.47      0.47      0.46       423\n",
      "weighted avg       0.47      0.47      0.46       423\n",
      "\n",
      "                 Predicted Negative  Predicted Positive\n",
      "Actual Negative                  67                 143\n",
      "Actual Positive                  80                 133\n",
      "Accuracy: 0.6333333333333333\n",
      "Precision: 0.6666666666666666\n",
      "Recall: 0.7777777777777778\n",
      "F1-score: 0.717948717948718\n",
      "AUC-ROC: 0.5972222222222221\n",
      "              precision    recall  f1-score   support\n",
      "\n",
      "           0       0.56      0.42      0.48        12\n",
      "           1       0.67      0.78      0.72        18\n",
      "\n",
      "    accuracy                           0.63        30\n",
      "   macro avg       0.61      0.60      0.60        30\n",
      "weighted avg       0.62      0.63      0.62        30\n",
      "\n",
      "                 Predicted Negative  Predicted Positive\n",
      "Actual Negative                   5                   7\n",
      "Actual Positive                   4                  14\n"
     ]
    }
   ],
   "source": [
    "from sklearn.linear_model import LogisticRegression\n",
    "logreg = LogisticRegression()\n",
    "logreg.fit(X_train_scaled, y_train)\n",
    "\n",
    "predicted = logreg.predict(X_validation_scaled)\n",
    "info(y_validation, predicted, 'LogisticRegression', metrics_df_valid)\n",
    "\n",
    "predicted = logreg.predict(X_test_scaled)\n",
    "info(y_test, predicted, 'LogisticRegression', metrics_df_test)"
   ]
  },
  {
   "cell_type": "markdown",
   "metadata": {},
   "source": [
    "Using AdaBoost"
   ]
  },
  {
   "cell_type": "code",
   "execution_count": 35,
   "metadata": {},
   "outputs": [
    {
     "name": "stderr",
     "output_type": "stream",
     "text": [
      "/Users/rohamizadidoost/miniconda3/lib/python3.9/site-packages/sklearn/ensemble/_base.py:156: FutureWarning: `base_estimator` was renamed to `estimator` in version 1.2 and will be removed in 1.4.\n",
      "  warnings.warn(\n"
     ]
    },
    {
     "name": "stdout",
     "output_type": "stream",
     "text": [
      "Accuracy: 0.491725768321513\n",
      "Precision: 0.4963768115942029\n",
      "Recall: 0.6431924882629108\n",
      "F1-score: 0.5603271983640081\n",
      "AUC-ROC: 0.49064386317907444\n",
      "              precision    recall  f1-score   support\n",
      "\n",
      "           0       0.48      0.34      0.40       210\n",
      "           1       0.50      0.64      0.56       213\n",
      "\n",
      "    accuracy                           0.49       423\n",
      "   macro avg       0.49      0.49      0.48       423\n",
      "weighted avg       0.49      0.49      0.48       423\n",
      "\n",
      "                 Predicted Negative  Predicted Positive\n",
      "Actual Negative                  71                 139\n",
      "Actual Positive                  76                 137\n",
      "\n",
      "________________________________________________________________\n",
      "\n",
      "Accuracy: 0.5666666666666667\n",
      "Precision: 0.631578947368421\n",
      "Recall: 0.6666666666666666\n",
      "F1-score: 0.6486486486486486\n",
      "AUC-ROC: 0.5416666666666666\n",
      "              precision    recall  f1-score   support\n",
      "\n",
      "           0       0.45      0.42      0.43        12\n",
      "           1       0.63      0.67      0.65        18\n",
      "\n",
      "    accuracy                           0.57        30\n",
      "   macro avg       0.54      0.54      0.54        30\n",
      "weighted avg       0.56      0.57      0.56        30\n",
      "\n",
      "                 Predicted Negative  Predicted Positive\n",
      "Actual Negative                   5                   7\n",
      "Actual Positive                   6                  12\n"
     ]
    }
   ],
   "source": [
    "from sklearn.linear_model import LogisticRegression\n",
    "from sklearn.ensemble import AdaBoostClassifier\n",
    "\n",
    "base_classifier = LogisticRegression()\n",
    "adaboost = AdaBoostClassifier(base_estimator=base_classifier)\n",
    "adaboost.fit(X_train_scaled, y_train)\n",
    "\n",
    "predicted = adaboost.predict(X_validation_scaled)\n",
    "info(y_validation, predicted, 'AdaBoost', metrics_df_valid)\n",
    "\n",
    "print('\\n________________________________________________________________\\n')\n",
    "\n",
    "predicted = adaboost.predict(X_test_scaled)\n",
    "info(y_test, predicted, 'AdaBoost', metrics_df_test)"
   ]
  },
  {
   "cell_type": "markdown",
   "metadata": {},
   "source": [
    "Metrics scores"
   ]
  },
  {
   "cell_type": "code",
   "execution_count": 36,
   "metadata": {},
   "outputs": [
    {
     "data": {
      "text/html": "<div>\n<style scoped>\n    .dataframe tbody tr th:only-of-type {\n        vertical-align: middle;\n    }\n\n    .dataframe tbody tr th {\n        vertical-align: top;\n    }\n\n    .dataframe thead th {\n        text-align: right;\n    }\n</style>\n<table border=\"1\" class=\"dataframe\">\n  <thead>\n    <tr style=\"text-align: right;\">\n      <th></th>\n      <th>Model</th>\n      <th>Accuracy</th>\n      <th>Precision</th>\n      <th>Recall</th>\n      <th>F1-score</th>\n      <th>AUC-ROC</th>\n    </tr>\n  </thead>\n  <tbody>\n    <tr>\n      <th>0</th>\n      <td>SVM-linear</td>\n      <td>0.527187</td>\n      <td>0.521452</td>\n      <td>0.741784</td>\n      <td>0.612403</td>\n      <td>0.525654</td>\n    </tr>\n    <tr>\n      <th>1</th>\n      <td>QDA</td>\n      <td>0.543735</td>\n      <td>0.558824</td>\n      <td>0.446009</td>\n      <td>0.496084</td>\n      <td>0.544433</td>\n    </tr>\n    <tr>\n      <th>2</th>\n      <td>LogisticRegression</td>\n      <td>0.472813</td>\n      <td>0.481884</td>\n      <td>0.624413</td>\n      <td>0.543967</td>\n      <td>0.471730</td>\n    </tr>\n    <tr>\n      <th>3</th>\n      <td>AdaBoost</td>\n      <td>0.491726</td>\n      <td>0.496377</td>\n      <td>0.643192</td>\n      <td>0.560327</td>\n      <td>0.490644</td>\n    </tr>\n  </tbody>\n</table>\n</div>",
      "text/plain": "                Model  Accuracy  Precision    Recall  F1-score   AUC-ROC\n0          SVM-linear  0.527187   0.521452  0.741784  0.612403  0.525654\n1                 QDA  0.543735   0.558824  0.446009  0.496084  0.544433\n2  LogisticRegression  0.472813   0.481884  0.624413  0.543967  0.471730\n3            AdaBoost  0.491726   0.496377  0.643192  0.560327  0.490644"
     },
     "execution_count": 36,
     "metadata": {},
     "output_type": "execute_result"
    }
   ],
   "source": [
    "metrics_df_valid"
   ]
  },
  {
   "cell_type": "code",
   "execution_count": 37,
   "metadata": {},
   "outputs": [
    {
     "data": {
      "text/html": "<div>\n<style scoped>\n    .dataframe tbody tr th:only-of-type {\n        vertical-align: middle;\n    }\n\n    .dataframe tbody tr th {\n        vertical-align: top;\n    }\n\n    .dataframe thead th {\n        text-align: right;\n    }\n</style>\n<table border=\"1\" class=\"dataframe\">\n  <thead>\n    <tr style=\"text-align: right;\">\n      <th></th>\n      <th>Model</th>\n      <th>Accuracy</th>\n      <th>Precision</th>\n      <th>Recall</th>\n      <th>F1-score</th>\n      <th>AUC-ROC</th>\n    </tr>\n  </thead>\n  <tbody>\n    <tr>\n      <th>0</th>\n      <td>SVM-linear</td>\n      <td>0.666667</td>\n      <td>0.681818</td>\n      <td>0.833333</td>\n      <td>0.750000</td>\n      <td>0.625000</td>\n    </tr>\n    <tr>\n      <th>1</th>\n      <td>QDA</td>\n      <td>0.366667</td>\n      <td>0.400000</td>\n      <td>0.111111</td>\n      <td>0.173913</td>\n      <td>0.430556</td>\n    </tr>\n    <tr>\n      <th>2</th>\n      <td>LogisticRegression</td>\n      <td>0.633333</td>\n      <td>0.666667</td>\n      <td>0.777778</td>\n      <td>0.717949</td>\n      <td>0.597222</td>\n    </tr>\n    <tr>\n      <th>3</th>\n      <td>AdaBoost</td>\n      <td>0.566667</td>\n      <td>0.631579</td>\n      <td>0.666667</td>\n      <td>0.648649</td>\n      <td>0.541667</td>\n    </tr>\n  </tbody>\n</table>\n</div>",
      "text/plain": "                Model  Accuracy  Precision    Recall  F1-score   AUC-ROC\n0          SVM-linear  0.666667   0.681818  0.833333  0.750000  0.625000\n1                 QDA  0.366667   0.400000  0.111111  0.173913  0.430556\n2  LogisticRegression  0.633333   0.666667  0.777778  0.717949  0.597222\n3            AdaBoost  0.566667   0.631579  0.666667  0.648649  0.541667"
     },
     "execution_count": 37,
     "metadata": {},
     "output_type": "execute_result"
    }
   ],
   "source": [
    "metrics_df_test"
   ]
  },
  {
   "cell_type": "code",
   "execution_count": 38,
   "metadata": {},
   "outputs": [],
   "source": [
    "import pandas as pd\n",
    "from sklearn.neighbors import KNeighborsClassifier\n",
    "import matplotlib.pyplot as plt\n",
    "from sklearn.model_selection import train_test_split\n",
    "from sklearn.preprocessing import StandardScaler , MinMaxScaler\n",
    "from sklearn.metrics import accuracy_score , f1_score , classification_report , ConfusionMatrixDisplay"
   ]
  },
  {
   "cell_type": "code",
   "execution_count": 39,
   "metadata": {},
   "outputs": [
    {
     "name": "stdout",
     "output_type": "stream",
     "text": [
      "Index(['GC=F Open', 'GC=F High', 'GC=F Low', 'GC=F Close', 'GC=F Volume',\n",
      "       'BTC-USD Open', 'BTC-USD High', 'BTC-USD Low', 'BTC-USD Close',\n",
      "       'BTC-USD Volume', 'HG=F Open', 'HG=F High', 'HG=F Low', 'HG=F Close',\n",
      "       'HG=F Volume', 'ETH-USD Open', 'ETH-USD High', 'ETH-USD Low',\n",
      "       'ETH-USD Close', 'ETH-USD Volume', '^GSPC Open', '^GSPC High',\n",
      "       '^GSPC Low', '^GSPC Close', '^GSPC Volume', 'XMR-USD Open',\n",
      "       'XMR-USD High', 'XMR-USD Low', 'XMR-USD Close', 'XMR-USD Volume',\n",
      "       '^GSPC Percentage Change', '^GSPC RSI', 'HG=F Percentage Change',\n",
      "       'HG=F RSI', 'GC=F Percentage Change', 'GC=F RSI',\n",
      "       'XMR-USD Percentage Change', 'XMR-USD RSI', 'BTC-USD Percentage Change',\n",
      "       'BTC-USD RSI', 'ETH-USD Percentage Change', 'ETH-USD RSI'],\n",
      "      dtype='object')\n"
     ]
    },
    {
     "data": {
      "text/html": "<div>\n<style scoped>\n    .dataframe tbody tr th:only-of-type {\n        vertical-align: middle;\n    }\n\n    .dataframe tbody tr th {\n        vertical-align: top;\n    }\n\n    .dataframe thead th {\n        text-align: right;\n    }\n</style>\n<table border=\"1\" class=\"dataframe\">\n  <thead>\n    <tr style=\"text-align: right;\">\n      <th></th>\n      <th>GC=F Open</th>\n      <th>GC=F High</th>\n      <th>GC=F Low</th>\n      <th>GC=F Close</th>\n      <th>GC=F Volume</th>\n      <th>BTC-USD Open</th>\n      <th>BTC-USD High</th>\n      <th>BTC-USD Low</th>\n      <th>BTC-USD Close</th>\n      <th>BTC-USD Volume</th>\n      <th>...</th>\n      <th>HG=F Percentage Change</th>\n      <th>HG=F RSI</th>\n      <th>GC=F Percentage Change</th>\n      <th>GC=F RSI</th>\n      <th>XMR-USD Percentage Change</th>\n      <th>XMR-USD RSI</th>\n      <th>BTC-USD Percentage Change</th>\n      <th>BTC-USD RSI</th>\n      <th>ETH-USD Percentage Change</th>\n      <th>ETH-USD RSI</th>\n    </tr>\n  </thead>\n  <tbody>\n    <tr>\n      <th>0</th>\n      <td>1636.888798</td>\n      <td>1644.485999</td>\n      <td>1629.399932</td>\n      <td>1636.979985</td>\n      <td>5438.75</td>\n      <td>8232.379883</td>\n      <td>8267.400391</td>\n      <td>8038.770020</td>\n      <td>8038.770020</td>\n      <td>4.225180e+09</td>\n      <td>...</td>\n      <td>0.085086</td>\n      <td>59.565225</td>\n      <td>0.267405</td>\n      <td>59.590590</td>\n      <td>-0.044248</td>\n      <td>70.415466</td>\n      <td>-0.026023</td>\n      <td>60.419049</td>\n      <td>0.077535</td>\n      <td>75.929635</td>\n    </tr>\n    <tr>\n      <th>1</th>\n      <td>1286.699951</td>\n      <td>1286.699951</td>\n      <td>1286.699951</td>\n      <td>1286.699951</td>\n      <td>0.00</td>\n      <td>8074.020020</td>\n      <td>8374.160156</td>\n      <td>7940.930176</td>\n      <td>8253.690430</td>\n      <td>5.058610e+09</td>\n      <td>...</td>\n      <td>-0.069153</td>\n      <td>52.534508</td>\n      <td>-0.213979</td>\n      <td>50.329646</td>\n      <td>0.008953</td>\n      <td>84.513562</td>\n      <td>0.026735</td>\n      <td>70.519224</td>\n      <td>0.157851</td>\n      <td>90.798317</td>\n    </tr>\n    <tr>\n      <th>2</th>\n      <td>1636.888798</td>\n      <td>1644.485999</td>\n      <td>1629.399932</td>\n      <td>1636.979985</td>\n      <td>5438.75</td>\n      <td>8241.709961</td>\n      <td>8790.919922</td>\n      <td>8191.149902</td>\n      <td>8790.919922</td>\n      <td>4.342060e+09</td>\n      <td>...</td>\n      <td>0.074290</td>\n      <td>50.000000</td>\n      <td>0.272231</td>\n      <td>50.000000</td>\n      <td>0.052585</td>\n      <td>83.326512</td>\n      <td>0.065090</td>\n      <td>78.546026</td>\n      <td>-0.018182</td>\n      <td>86.356671</td>\n    </tr>\n    <tr>\n      <th>3</th>\n      <td>1636.888798</td>\n      <td>1644.485999</td>\n      <td>1629.399932</td>\n      <td>1636.979985</td>\n      <td>5438.75</td>\n      <td>8789.040039</td>\n      <td>9522.929688</td>\n      <td>8775.589844</td>\n      <td>9330.549805</td>\n      <td>5.475580e+09</td>\n      <td>...</td>\n      <td>0.000000</td>\n      <td>50.000000</td>\n      <td>0.000000</td>\n      <td>50.000000</td>\n      <td>-0.030088</td>\n      <td>76.671789</td>\n      <td>0.061385</td>\n      <td>88.465261</td>\n      <td>0.010839</td>\n      <td>89.518960</td>\n    </tr>\n    <tr>\n      <th>4</th>\n      <td>1293.800049</td>\n      <td>1293.800049</td>\n      <td>1293.800049</td>\n      <td>1293.800049</td>\n      <td>1.00</td>\n      <td>9352.719727</td>\n      <td>9818.349609</td>\n      <td>9352.719727</td>\n      <td>9818.349609</td>\n      <td>5.653320e+09</td>\n      <td>...</td>\n      <td>-0.079003</td>\n      <td>50.587830</td>\n      <td>-0.209642</td>\n      <td>50.385842</td>\n      <td>0.061319</td>\n      <td>79.881881</td>\n      <td>0.052280</td>\n      <td>88.136920</td>\n      <td>0.019148</td>\n      <td>89.529949</td>\n    </tr>\n  </tbody>\n</table>\n<p>5 rows × 42 columns</p>\n</div>",
      "text/plain": "     GC=F Open    GC=F High     GC=F Low   GC=F Close  GC=F Volume  \\\n0  1636.888798  1644.485999  1629.399932  1636.979985      5438.75   \n1  1286.699951  1286.699951  1286.699951  1286.699951         0.00   \n2  1636.888798  1644.485999  1629.399932  1636.979985      5438.75   \n3  1636.888798  1644.485999  1629.399932  1636.979985      5438.75   \n4  1293.800049  1293.800049  1293.800049  1293.800049         1.00   \n\n   BTC-USD Open  BTC-USD High  BTC-USD Low  BTC-USD Close  BTC-USD Volume  \\\n0   8232.379883   8267.400391  8038.770020    8038.770020    4.225180e+09   \n1   8074.020020   8374.160156  7940.930176    8253.690430    5.058610e+09   \n2   8241.709961   8790.919922  8191.149902    8790.919922    4.342060e+09   \n3   8789.040039   9522.929688  8775.589844    9330.549805    5.475580e+09   \n4   9352.719727   9818.349609  9352.719727    9818.349609    5.653320e+09   \n\n   ...  HG=F Percentage Change   HG=F RSI  GC=F Percentage Change   GC=F RSI  \\\n0  ...                0.085086  59.565225                0.267405  59.590590   \n1  ...               -0.069153  52.534508               -0.213979  50.329646   \n2  ...                0.074290  50.000000                0.272231  50.000000   \n3  ...                0.000000  50.000000                0.000000  50.000000   \n4  ...               -0.079003  50.587830               -0.209642  50.385842   \n\n   XMR-USD Percentage Change  XMR-USD RSI  BTC-USD Percentage Change  \\\n0                  -0.044248    70.415466                  -0.026023   \n1                   0.008953    84.513562                   0.026735   \n2                   0.052585    83.326512                   0.065090   \n3                  -0.030088    76.671789                   0.061385   \n4                   0.061319    79.881881                   0.052280   \n\n   BTC-USD RSI  ETH-USD Percentage Change  ETH-USD RSI  \n0    60.419049                   0.077535    75.929635  \n1    70.519224                   0.157851    90.798317  \n2    78.546026                  -0.018182    86.356671  \n3    88.465261                   0.010839    89.518960  \n4    88.136920                   0.019148    89.529949  \n\n[5 rows x 42 columns]"
     },
     "execution_count": 39,
     "metadata": {},
     "output_type": "execute_result"
    }
   ],
   "source": [
    "X = pd.read_csv(\"./Train.csv\")\n",
    "y = X['Target']\n",
    "drops = ['Date' , 'Target'  ]\n",
    "X = X.drop(columns=drops)\n",
    "print(X.columns)\n",
    "X.head()"
   ]
  },
  {
   "cell_type": "code",
   "execution_count": 40,
   "metadata": {},
   "outputs": [],
   "source": [
    "X_train, X_test, y_train, y_test = train_test_split(X, y, test_size=0.3, random_state=42)\n",
    "sc = StandardScaler()\n",
    "sc.fit(X_train)\n",
    "X_train =sc.transform(X_train)\n",
    "X_test = sc.transform(X_test)"
   ]
  },
  {
   "cell_type": "markdown",
   "metadata": {},
   "source": [
    "scaling with standard scaler made the results better and standard scaling was better than min-max sacling"
   ]
  },
  {
   "cell_type": "code",
   "execution_count": 41,
   "metadata": {},
   "outputs": [
    {
     "name": "stdout",
     "output_type": "stream",
     "text": [
      "0.6035182679296346\n",
      "              precision    recall  f1-score   support\n",
      "\n",
      "           0       0.54      0.38      0.45       312\n",
      "           1       0.54      0.69      0.60       323\n",
      "\n",
      "    accuracy                           0.54       635\n",
      "   macro avg       0.54      0.54      0.53       635\n",
      "weighted avg       0.54      0.54      0.53       635\n",
      "\n"
     ]
    }
   ],
   "source": [
    "model = KNeighborsClassifier(n_neighbors=60) #f1_score 76\n",
    "#model = KNeighborsClassifier(p )\n",
    "model.fit(X_train, y_train)\n",
    "y_pred = model.predict(X_test)\n",
    "print(f1_score(y_test, y_pred))\n",
    "print(classification_report(y_test, y_pred))"
   ]
  },
  {
   "cell_type": "markdown",
   "metadata": {},
   "source": [
    "Trying knn-method , as expected , knn method score is low"
   ]
  },
  {
   "cell_type": "code",
   "execution_count": 43,
   "metadata": {},
   "outputs": [
    {
     "name": "stdout",
     "output_type": "stream",
     "text": [
      "0.5806451612903226\n",
      "              precision    recall  f1-score   support\n",
      "\n",
      "           0       0.47      0.67      0.55        12\n",
      "           1       0.69      0.50      0.58        18\n",
      "\n",
      "    accuracy                           0.57        30\n",
      "   macro avg       0.58      0.58      0.57        30\n",
      "weighted avg       0.60      0.57      0.57        30\n",
      "\n"
     ]
    },
    {
     "data": {
      "image/png": "[encoded data removed]",
      "text/plain": "<Figure size 640x480 with 2 Axes>"
     },
     "metadata": {},
     "output_type": "display_data"
    }
   ],
   "source": [
    "X_Main_test = pd.read_csv('./Test.csv')\n",
    "y_Main_test = X_Main_test['Target']\n",
    "X_Main_test = X_Main_test.drop(columns=drops)\n",
    "X_Main_test = sc.transform(X_Main_test)\n",
    "y_Main_pred = model.predict(X_Main_test)\n",
    "print(f1_score(y_Main_test, y_Main_pred))\n",
    "print(classification_report(y_Main_test, y_Main_pred))\n",
    "ConfusionMatrixDisplay.from_estimator(model, X_Main_test, y_Main_test, cmap='Blues');\n"
   ]
  },
  {
   "cell_type": "code",
   "execution_count": 44,
   "metadata": {},
   "outputs": [
    {
     "name": "stdout",
     "output_type": "stream",
     "text": [
      "0.5619596541786742\n",
      "0.521259842519685\n",
      "              precision    recall  f1-score   support\n",
      "\n",
      "           0       0.52      0.44      0.47       312\n",
      "           1       0.53      0.60      0.56       323\n",
      "\n",
      "    accuracy                           0.52       635\n",
      "   macro avg       0.52      0.52      0.52       635\n",
      "weighted avg       0.52      0.52      0.52       635\n",
      "\n"
     ]
    }
   ],
   "source": [
    "from sklearn.linear_model import SGDClassifier\n",
    "model = SGDClassifier(loss=\"log_loss\" , random_state=41)\n",
    "model.fit(X_train, y_train)\n",
    "y_pred = model.predict(X_test)\n",
    "print(f1_score(y_test, y_pred))\n",
    "print(accuracy_score(y_test , y_pred))\n",
    "print(classification_report(y_test, y_pred))"
   ]
  },
  {
   "cell_type": "markdown",
   "metadata": {},
   "source": [
    "using sgd method , hyperparameters set"
   ]
  },
  {
   "cell_type": "code",
   "execution_count": 45,
   "metadata": {},
   "outputs": [
    {
     "name": "stdout",
     "output_type": "stream",
     "text": [
      "0.7000000000000001\n",
      "0.6\n",
      "              precision    recall  f1-score   support\n",
      "\n",
      "           0       0.50      0.33      0.40        12\n",
      "           1       0.64      0.78      0.70        18\n",
      "\n",
      "    accuracy                           0.60        30\n",
      "   macro avg       0.57      0.56      0.55        30\n",
      "weighted avg       0.58      0.60      0.58        30\n",
      "\n"
     ]
    },
    {
     "data": {
      "image/png": "[encoded data removed]",
      "text/plain": "<Figure size 640x480 with 2 Axes>"
     },
     "metadata": {},
     "output_type": "display_data"
    }
   ],
   "source": [
    "y_Main_pred = model.predict(X_Main_test)\n",
    "print(f1_score(y_Main_test, y_Main_pred))\n",
    "print(accuracy_score(y_Main_test , y_Main_pred))\n",
    "print(classification_report(y_Main_test, y_Main_pred))\n",
    "ConfusionMatrixDisplay.from_estimator(model, X_Main_test, y_Main_test, cmap='Blues');"
   ]
  }
 ],
 "metadata": {
  "kernelspec": {
   "display_name": "Python 3 (ipykernel)",
   "name": "python3"
  },
  "language_info": {
   "codemirror_mode": {
    "name": "ipython",
    "version": 3
   },
   "file_extension": ".py",
   "mimetype": "text/x-python",
   "name": "python",
   "nbconvert_exporter": "python",
   "pygments_lexer": "ipython3",
   "version": "3.9.17"
  },
  "orig_nbformat": 2
 },
 "nbformat": 4,
 "nbformat_minor": 2
}