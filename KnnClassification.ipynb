{
 "cells": [
  {
   "cell_type": "code",
   "execution_count": 174,
   "metadata": {},
   "outputs": [],
   "source": [
    "import pandas as pd\n",
    "from sklearn.neighbors import KNeighborsClassifier\n",
    "import matplotlib.pyplot as plt\n",
    "from sklearn.model_selection import train_test_split\n",
    "from sklearn.preprocessing import StandardScaler\n",
    "from sklearn.metrics import accuracy_score , f1_score , classification_report"
   ]
  },
  {
   "cell_type": "code",
   "execution_count": 175,
   "metadata": {},
   "outputs": [],
   "source": [
    "def Makey(x):\n",
    "    df = x.copy()\n",
    "    df['Label'] = df.apply(lambda row: 1 if row['Change'] >= 0 else 0 , axis=1)\n",
    "    return df['Label']"
   ]
  },
  {
   "cell_type": "code",
   "execution_count": 176,
   "metadata": {},
   "outputs": [
    {
     "name": "stdout",
     "output_type": "stream",
     "text": [
      "Index(['XMR-USD Open', 'XMR-USD High', 'XMR-USD Low', 'XMR-USD Close',\n",
      "       'XMR-USD Volume', 'RSI', 'SMA', 'EMA', 'GC=F Open', 'GC=F High',\n",
      "       'GC=F Low', 'GC=F Close', 'GC=F Volume', 'GoldChangePercent',\n",
      "       '^GSPC Open', '^GSPC High', '^GSPC Low', '^GSPC Close', '^GSPC Volume',\n",
      "       'GSPCChangePercent', 'HG=F Open', 'HG=F High', 'HG=F Low', 'HG=F Close',\n",
      "       'HG=F Volume', 'SilverChangePercent', 'ETH-USD Open', 'ETH-USD High',\n",
      "       'ETH-USD Low', 'ETH-USD Close', 'ETH-USD Volume', 'EthChangePercent',\n",
      "       'BTC-USD Open', 'BTC-USD High', 'BTC-USD Low', 'BTC-USD Close',\n",
      "       'BTC-USD Volume', 'BtcChanePercent'],\n",
      "      dtype='object')\n"
     ]
    }
   ],
   "source": [
    "X = pd.read_csv(\"./train.csv\")\n",
    "y = Makey(X)\n",
    "X = X.drop(columns=['Date' , 'Unnamed: 0' , 'Increase' , 'Change' , 'Percentage Change' , 'Target'])\n",
    "X = X.fillna(1)\n",
    "print(X.columns)"
   ]
  },
  {
   "cell_type": "code",
   "execution_count": 177,
   "metadata": {},
   "outputs": [],
   "source": [
    "X_train, X_test, y_train, y_test = train_test_split(X, y, test_size=0.33, random_state=42)\n",
    "sc = StandardScaler()\n",
    "sc.fit(X_train)\n",
    "X_train =sc.transform(X_train)\n",
    "X_test = sc.transform(X_test)"
   ]
  },
  {
   "cell_type": "code",
   "execution_count": 178,
   "metadata": {},
   "outputs": [
    {
     "name": "stdout",
     "output_type": "stream",
     "text": [
      "0.7230169050715214\n",
      "              precision    recall  f1-score   support\n",
      "\n",
      "           0       0.74      0.60      0.67       351\n",
      "           1       0.67      0.79      0.72       352\n",
      "\n",
      "    accuracy                           0.70       703\n",
      "   macro avg       0.70      0.70      0.69       703\n",
      "weighted avg       0.70      0.70      0.69       703\n",
      "\n"
     ]
    }
   ],
   "source": [
    "#model = KNeighborsClassifier(n_neighbors=67) f1_score 76\n",
    "model = KNeighborsClassifier(p=2)\n",
    "model.fit(X_train, y_train)\n",
    "y_pred = model.predict(X_test)\n",
    "print(f1_score(y_test, y_pred))\n",
    "print(classification_report(y_test, y_pred))"
   ]
  },
  {
   "cell_type": "code",
   "execution_count": 179,
   "metadata": {},
   "outputs": [
    {
     "name": "stdout",
     "output_type": "stream",
     "text": [
      "0.8095238095238096\n",
      "              precision    recall  f1-score   support\n",
      "\n",
      "           0       0.83      0.42      0.56        12\n",
      "           1       0.71      0.94      0.81        18\n",
      "\n",
      "    accuracy                           0.73        30\n",
      "   macro avg       0.77      0.68      0.68        30\n",
      "weighted avg       0.76      0.73      0.71        30\n",
      "\n"
     ]
    }
   ],
   "source": [
    "X_Main_test = pd.read_csv('./test.csv')\n",
    "y_Main_test = X_Main_test['Increase']\n",
    "X_Main_test = X_Main_test.fillna(1)\n",
    "X_Main_test = X_Main_test.drop(columns=['Date' , 'Unnamed: 0' , 'Increase' , 'Change' , 'Percentage Change' , 'Target'])\n",
    "X_Main_test = sc.transform(X_Main_test)\n",
    "y_Main_pred = model.predict(X_Main_test)\n",
    "print(f1_score(y_Main_test, y_Main_pred))\n",
    "print(classification_report(y_Main_test, y_Main_pred))\n"
   ]
  },
  {
   "cell_type": "code",
   "execution_count": 180,
   "metadata": {},
   "outputs": [
    {
     "name": "stdout",
     "output_type": "stream",
     "text": [
      "0.8648648648648649\n",
      "0.8577524893314367\n",
      "              precision    recall  f1-score   support\n",
      "\n",
      "           0       0.90      0.81      0.85       351\n",
      "           1       0.82      0.91      0.86       352\n",
      "\n",
      "    accuracy                           0.86       703\n",
      "   macro avg       0.86      0.86      0.86       703\n",
      "weighted avg       0.86      0.86      0.86       703\n",
      "\n"
     ]
    }
   ],
   "source": [
    "from sklearn.linear_model import SGDClassifier\n",
    "model = SGDClassifier(loss=\"log_loss\", max_iter=2000 , random_state=41)\n",
    "model.fit(X_train, y_train)\n",
    "y_pred = model.predict(X_test)\n",
    "print(f1_score(y_test, y_pred))\n",
    "print(accuracy_score(y_test , y_pred))\n",
    "print(classification_report(y_test, y_pred))\n"
   ]
  },
  {
   "cell_type": "code",
   "execution_count": 181,
   "metadata": {},
   "outputs": [
    {
     "name": "stdout",
     "output_type": "stream",
     "text": [
      "0.918918918918919\n",
      "0.9\n",
      "              precision    recall  f1-score   support\n",
      "\n",
      "           0       0.91      0.83      0.87        12\n",
      "           1       0.89      0.94      0.92        18\n",
      "\n",
      "    accuracy                           0.90        30\n",
      "   macro avg       0.90      0.89      0.89        30\n",
      "weighted avg       0.90      0.90      0.90        30\n",
      "\n"
     ]
    }
   ],
   "source": [
    "y_Main_pred = model.predict(X_Main_test)\n",
    "print(f1_score(y_Main_test, y_Main_pred))\n",
    "print(accuracy_score(y_Main_test , y_Main_pred))\n",
    "print(classification_report(y_Main_test, y_Main_pred))"
   ]
  }
 ],
 "metadata": {
  "kernelspec": {
   "display_name": "Python 3 (ipykernel)",
   "name": "python3"
  },
  "language_info": {
   "codemirror_mode": {
    "name": "ipython",
    "version": 3
   },
   "file_extension": ".py",
   "mimetype": "text/x-python",
   "name": "python",
   "nbconvert_exporter": "python",
   "pygments_lexer": "ipython3",
   "version": "3.9.17"
  },
  "orig_nbformat": 2
 },
 "nbformat": 4,
 "nbformat_minor": 2
}