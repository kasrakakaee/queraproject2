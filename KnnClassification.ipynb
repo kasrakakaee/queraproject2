{
 "cells": [
  {
   "cell_type": "code",
   "execution_count": 394,
   "metadata": {},
   "outputs": [],
   "source": [
    "import pandas as pd\n",
    "from sklearn.neighbors import KNeighborsClassifier\n",
    "import matplotlib.pyplot as plt\n",
    "from sklearn.model_selection import train_test_split\n",
    "from sklearn.preprocessing import StandardScaler , MinMaxScaler\n",
    "from sklearn.metrics import accuracy_score , f1_score , classification_report , ConfusionMatrixDisplay"
   ]
  },
  {
   "cell_type": "code",
   "execution_count": 175,
   "metadata": {},
   "outputs": [],
   "source": [
    "def Makey(x):\n",
    "    df = x.copy()\n",
    "    df['Label'] = df.apply(lambda row: 1 if row['Change'] >= 0 else 0 , axis=1)\n",
    "    return df['Label']"
   ]
  },
  {
   "cell_type": "markdown",
   "metadata": {},
   "source": [
    "برای ساخت تارگت ها استفاده میشد.\n"
   ]
  },
  {
   "cell_type": "code",
   "execution_count": 419,
   "metadata": {},
   "outputs": [
    {
     "name": "stdout",
     "output_type": "stream",
     "text": [
      "Index(['GC=F Open', 'GC=F High', 'GC=F Low', 'GC=F Close', 'GC=F Volume',\n",
      "       '^GSPC Open', '^GSPC High', '^GSPC Low', '^GSPC Close', '^GSPC Volume',\n",
      "       'XMR-USD Open', 'XMR-USD High', 'XMR-USD Low', 'XMR-USD Close',\n",
      "       'XMR-USD Volume', 'ETH-USD Open', 'ETH-USD High', 'ETH-USD Low',\n",
      "       'ETH-USD Close', 'ETH-USD Volume', 'HG=F Open', 'HG=F High', 'HG=F Low',\n",
      "       'HG=F Close', 'HG=F Volume', 'BTC-USD Open', 'BTC-USD High',\n",
      "       'BTC-USD Low', 'BTC-USD Close', 'BTC-USD Volume',\n",
      "       '^GSPC Percentage Change', '^GSPC RSI', 'HG=F Percentage Change',\n",
      "       'HG=F RSI', 'GC=F Percentage Change', 'GC=F RSI',\n",
      "       'XMR-USD Percentage Change', 'XMR-USD RSI', 'BTC-USD Percentage Change',\n",
      "       'BTC-USD RSI', 'ETH-USD Percentage Change', 'ETH-USD RSI'],\n",
      "      dtype='object')\n"
     ]
    },
    {
     "data": {
      "text/html": "<div>\n<style scoped>\n    .dataframe tbody tr th:only-of-type {\n        vertical-align: middle;\n    }\n\n    .dataframe tbody tr th {\n        vertical-align: top;\n    }\n\n    .dataframe thead th {\n        text-align: right;\n    }\n</style>\n<table border=\"1\" class=\"dataframe\">\n  <thead>\n    <tr style=\"text-align: right;\">\n      <th></th>\n      <th>GC=F Open</th>\n      <th>GC=F High</th>\n      <th>GC=F Low</th>\n      <th>GC=F Close</th>\n      <th>GC=F Volume</th>\n      <th>^GSPC Open</th>\n      <th>^GSPC High</th>\n      <th>^GSPC Low</th>\n      <th>^GSPC Close</th>\n      <th>^GSPC Volume</th>\n      <th>...</th>\n      <th>HG=F Percentage Change</th>\n      <th>HG=F RSI</th>\n      <th>GC=F Percentage Change</th>\n      <th>GC=F RSI</th>\n      <th>XMR-USD Percentage Change</th>\n      <th>XMR-USD RSI</th>\n      <th>BTC-USD Percentage Change</th>\n      <th>BTC-USD RSI</th>\n      <th>ETH-USD Percentage Change</th>\n      <th>ETH-USD RSI</th>\n    </tr>\n  </thead>\n  <tbody>\n    <tr>\n      <th>0</th>\n      <td>1636.888798</td>\n      <td>1644.485999</td>\n      <td>1629.399932</td>\n      <td>1636.979985</td>\n      <td>5438.75</td>\n      <td>3518.221772</td>\n      <td>3539.354348</td>\n      <td>3495.511945</td>\n      <td>3518.650724</td>\n      <td>4.191631e+09</td>\n      <td>...</td>\n      <td>0.085086</td>\n      <td>59.565225</td>\n      <td>0.267405</td>\n      <td>59.590590</td>\n      <td>-0.044248</td>\n      <td>70.415466</td>\n      <td>-0.026023</td>\n      <td>60.419049</td>\n      <td>0.077535</td>\n      <td>75.929635</td>\n    </tr>\n    <tr>\n      <th>1</th>\n      <td>1286.699951</td>\n      <td>1286.699951</td>\n      <td>1286.699951</td>\n      <td>1286.699951</td>\n      <td>0.00</td>\n      <td>2600.419922</td>\n      <td>2604.209961</td>\n      <td>2600.419922</td>\n      <td>2602.419922</td>\n      <td>1.385890e+09</td>\n      <td>...</td>\n      <td>-0.069153</td>\n      <td>52.534508</td>\n      <td>-0.213979</td>\n      <td>50.329646</td>\n      <td>0.008953</td>\n      <td>84.513562</td>\n      <td>0.026735</td>\n      <td>70.519224</td>\n      <td>0.157851</td>\n      <td>90.798317</td>\n    </tr>\n    <tr>\n      <th>2</th>\n      <td>1636.888798</td>\n      <td>1644.485999</td>\n      <td>1629.399932</td>\n      <td>1636.979985</td>\n      <td>5438.75</td>\n      <td>3518.221772</td>\n      <td>3539.354348</td>\n      <td>3495.511945</td>\n      <td>3518.650724</td>\n      <td>4.191631e+09</td>\n      <td>...</td>\n      <td>0.074290</td>\n      <td>50.000000</td>\n      <td>0.272231</td>\n      <td>50.000000</td>\n      <td>0.052585</td>\n      <td>83.326512</td>\n      <td>0.065090</td>\n      <td>78.546026</td>\n      <td>-0.018182</td>\n      <td>86.356671</td>\n    </tr>\n    <tr>\n      <th>3</th>\n      <td>1636.888798</td>\n      <td>1644.485999</td>\n      <td>1629.399932</td>\n      <td>1636.979985</td>\n      <td>5438.75</td>\n      <td>3518.221772</td>\n      <td>3539.354348</td>\n      <td>3495.511945</td>\n      <td>3518.650724</td>\n      <td>4.191631e+09</td>\n      <td>...</td>\n      <td>0.000000</td>\n      <td>50.000000</td>\n      <td>0.000000</td>\n      <td>50.000000</td>\n      <td>-0.030088</td>\n      <td>76.671789</td>\n      <td>0.061385</td>\n      <td>88.465261</td>\n      <td>0.010839</td>\n      <td>89.518960</td>\n    </tr>\n    <tr>\n      <th>4</th>\n      <td>1293.800049</td>\n      <td>1293.800049</td>\n      <td>1293.800049</td>\n      <td>1293.800049</td>\n      <td>1.00</td>\n      <td>2602.659912</td>\n      <td>2606.409912</td>\n      <td>2598.870117</td>\n      <td>2601.419922</td>\n      <td>3.017720e+09</td>\n      <td>...</td>\n      <td>-0.079003</td>\n      <td>50.587830</td>\n      <td>-0.209642</td>\n      <td>50.385842</td>\n      <td>0.061319</td>\n      <td>79.881881</td>\n      <td>0.052280</td>\n      <td>88.136920</td>\n      <td>0.019148</td>\n      <td>89.529949</td>\n    </tr>\n  </tbody>\n</table>\n<p>5 rows × 42 columns</p>\n</div>",
      "text/plain": "     GC=F Open    GC=F High     GC=F Low   GC=F Close  GC=F Volume  \\\n0  1636.888798  1644.485999  1629.399932  1636.979985      5438.75   \n1  1286.699951  1286.699951  1286.699951  1286.699951         0.00   \n2  1636.888798  1644.485999  1629.399932  1636.979985      5438.75   \n3  1636.888798  1644.485999  1629.399932  1636.979985      5438.75   \n4  1293.800049  1293.800049  1293.800049  1293.800049         1.00   \n\n    ^GSPC Open   ^GSPC High    ^GSPC Low  ^GSPC Close  ^GSPC Volume  ...  \\\n0  3518.221772  3539.354348  3495.511945  3518.650724  4.191631e+09  ...   \n1  2600.419922  2604.209961  2600.419922  2602.419922  1.385890e+09  ...   \n2  3518.221772  3539.354348  3495.511945  3518.650724  4.191631e+09  ...   \n3  3518.221772  3539.354348  3495.511945  3518.650724  4.191631e+09  ...   \n4  2602.659912  2606.409912  2598.870117  2601.419922  3.017720e+09  ...   \n\n   HG=F Percentage Change   HG=F RSI  GC=F Percentage Change   GC=F RSI  \\\n0                0.085086  59.565225                0.267405  59.590590   \n1               -0.069153  52.534508               -0.213979  50.329646   \n2                0.074290  50.000000                0.272231  50.000000   \n3                0.000000  50.000000                0.000000  50.000000   \n4               -0.079003  50.587830               -0.209642  50.385842   \n\n   XMR-USD Percentage Change  XMR-USD RSI  BTC-USD Percentage Change  \\\n0                  -0.044248    70.415466                  -0.026023   \n1                   0.008953    84.513562                   0.026735   \n2                   0.052585    83.326512                   0.065090   \n3                  -0.030088    76.671789                   0.061385   \n4                   0.061319    79.881881                   0.052280   \n\n   BTC-USD RSI  ETH-USD Percentage Change  ETH-USD RSI  \n0    60.419049                   0.077535    75.929635  \n1    70.519224                   0.157851    90.798317  \n2    78.546026                  -0.018182    86.356671  \n3    88.465261                   0.010839    89.518960  \n4    88.136920                   0.019148    89.529949  \n\n[5 rows x 42 columns]"
     },
     "execution_count": 419,
     "metadata": {},
     "output_type": "execute_result"
    }
   ],
   "source": [
    "X = pd.read_csv(\"./random_forest_train.csv\")\n",
    "y = X['Target']\n",
    "drops = ['Date' , 'Target'  ]\n",
    "X = X.drop(columns=drops)\n",
    "print(X.columns)\n",
    "X.head()"
   ]
  },
  {
   "cell_type": "code",
   "execution_count": 420,
   "metadata": {},
   "outputs": [],
   "source": [
    "X_train, X_test, y_train, y_test = train_test_split(X, y, test_size=0.3, random_state=42)\n",
    "sc = StandardScaler()\n",
    "sc.fit(X_train)\n",
    "X_train =sc.transform(X_train)\n",
    "X_test = sc.transform(X_test)"
   ]
  },
  {
   "cell_type": "markdown",
   "metadata": {},
   "source": [
    "sacling with standard scaler made the results better and standard scaling was better than min-max sacling"
   ]
  },
  {
   "cell_type": "code",
   "execution_count": 430,
   "metadata": {},
   "outputs": [
    {
     "name": "stdout",
     "output_type": "stream",
     "text": [
      "0.6035182679296346\n",
      "              precision    recall  f1-score   support\n",
      "\n",
      "           0       0.54      0.38      0.45       312\n",
      "           1       0.54      0.69      0.60       323\n",
      "\n",
      "    accuracy                           0.54       635\n",
      "   macro avg       0.54      0.54      0.53       635\n",
      "weighted avg       0.54      0.54      0.53       635\n",
      "\n"
     ]
    }
   ],
   "source": [
    "model = KNeighborsClassifier(n_neighbors=60) #f1_score 76\n",
    "#model = KNeighborsClassifier(p )\n",
    "model.fit(X_train, y_train)\n",
    "y_pred = model.predict(X_test)\n",
    "print(f1_score(y_test, y_pred))\n",
    "print(classification_report(y_test, y_pred))"
   ]
  },
  {
   "cell_type": "markdown",
   "metadata": {},
   "source": [
    "Trying knn-method , as expected , knn method score is low"
   ]
  },
  {
   "cell_type": "code",
   "execution_count": 422,
   "metadata": {},
   "outputs": [
    {
     "name": "stdout",
     "output_type": "stream",
     "text": [
      "0.5806451612903226\n",
      "              precision    recall  f1-score   support\n",
      "\n",
      "           0       0.47      0.67      0.55        12\n",
      "           1       0.69      0.50      0.58        18\n",
      "\n",
      "    accuracy                           0.57        30\n",
      "   macro avg       0.58      0.58      0.57        30\n",
      "weighted avg       0.60      0.57      0.57        30\n",
      "\n"
     ]
    },
    {
     "data": {
      "image/png": "[encoded data removed]",
      "text/plain": "<Figure size 640x480 with 2 Axes>"
     },
     "metadata": {},
     "output_type": "display_data"
    }
   ],
   "source": [
    "X_Main_test = pd.read_csv('./random_forest_test.csv')\n",
    "y_Main_test = X_Main_test['Target']\n",
    "X_Main_test = X_Main_test.drop(columns=drops)\n",
    "X_Main_test = sc.transform(X_Main_test)\n",
    "y_Main_pred = model.predict(X_Main_test)\n",
    "print(f1_score(y_Main_test, y_Main_pred))\n",
    "print(classification_report(y_Main_test, y_Main_pred))\n",
    "ConfusionMatrixDisplay.from_estimator(model, X_Main_test, y_Main_test, cmap='Blues');\n"
   ]
  },
  {
   "cell_type": "code",
   "execution_count": 437,
   "metadata": {},
   "outputs": [
    {
     "name": "stdout",
     "output_type": "stream",
     "text": [
      "0.5619596541786742\n",
      "0.521259842519685\n",
      "              precision    recall  f1-score   support\n",
      "\n",
      "           0       0.52      0.44      0.47       312\n",
      "           1       0.53      0.60      0.56       323\n",
      "\n",
      "    accuracy                           0.52       635\n",
      "   macro avg       0.52      0.52      0.52       635\n",
      "weighted avg       0.52      0.52      0.52       635\n",
      "\n"
     ]
    }
   ],
   "source": [
    "from sklearn.linear_model import SGDClassifier\n",
    "model = SGDClassifier(loss=\"log_loss\" , random_state=41)\n",
    "model.fit(X_train, y_train)\n",
    "y_pred = model.predict(X_test)\n",
    "print(f1_score(y_test, y_pred))\n",
    "print(accuracy_score(y_test , y_pred))\n",
    "print(classification_report(y_test, y_pred))\n"
   ]
  },
  {
   "cell_type": "markdown",
   "metadata": {},
   "source": [
    "using sgd method , hyperparameters set"
   ]
  },
  {
   "cell_type": "code",
   "execution_count": 439,
   "metadata": {},
   "outputs": [
    {
     "name": "stdout",
     "output_type": "stream",
     "text": [
      "0.7000000000000001\n",
      "0.6\n",
      "              precision    recall  f1-score   support\n",
      "\n",
      "           0       0.50      0.33      0.40        12\n",
      "           1       0.64      0.78      0.70        18\n",
      "\n",
      "    accuracy                           0.60        30\n",
      "   macro avg       0.57      0.56      0.55        30\n",
      "weighted avg       0.58      0.60      0.58        30\n",
      "\n"
     ]
    },
    {
     "data": {
      "image/png": "[encoded data removed]",
      "text/plain": "<Figure size 640x480 with 2 Axes>"
     },
     "metadata": {},
     "output_type": "display_data"
    }
   ],
   "source": [
    "y_Main_pred = model.predict(X_Main_test)\n",
    "print(f1_score(y_Main_test, y_Main_pred))\n",
    "print(accuracy_score(y_Main_test , y_Main_pred))\n",
    "print(classification_report(y_Main_test, y_Main_pred))\n",
    "ConfusionMatrixDisplay.from_estimator(model, X_Main_test, y_Main_test, cmap='Blues');"
   ]
  },
  {
   "cell_type": "code",
   "execution_count": null,
   "metadata": {},
   "outputs": [],
   "source": []
  }
 ],
 "metadata": {
  "kernelspec": {
   "display_name": "Python 3 (ipykernel)",
   "name": "python3"
  },
  "language_info": {
   "codemirror_mode": {
    "name": "ipython",
    "version": 3
   },
   "file_extension": ".py",
   "mimetype": "text/x-python",
   "name": "python",
   "nbconvert_exporter": "python",
   "pygments_lexer": "ipython3",
   "version": "3.9.17"
  },
  "orig_nbformat": 2
 },
 "nbformat": 4,
 "nbformat_minor": 2
}