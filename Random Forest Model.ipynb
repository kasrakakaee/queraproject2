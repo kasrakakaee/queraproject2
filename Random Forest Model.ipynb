{
 "cells": [
  {
   "cell_type": "code",
   "execution_count": 1,
   "id": "e99be9bd-6329-4365-b40f-158946cb88c4",
   "metadata": {},
   "outputs": [],
   "source": [
    "import pandas as pd\n",
    "import numpy as np"
   ]
  },
  {
   "cell_type": "code",
   "execution_count": 126,
   "id": "04b86565-e297-4a04-949d-48f438adb066",
   "metadata": {},
   "outputs": [],
   "source": [
    "train = pd.read_csv('random_forest_train.csv')\n",
    "X = train.drop(columns='Target')\n",
    "y = train['Target']"
   ]
  },
  {
   "cell_type": "code",
   "execution_count": 119,
   "id": "306f2536-7f78-4da4-a017-d935e581a3be",
   "metadata": {},
   "outputs": [],
   "source": [
    "# Preproccessing\n",
    "from sklearn.model_selection import train_test_split\n",
    "from sklearn.preprocessing import StandardScaler\n",
    "X_train, X_validation, y_train, y_validation = train_test_split(X, y, test_size=0.1, random_state=13)\n",
    "std_scaler = StandardScaler()\n",
    "X_train = std_scaler.fit_transform(X_train)\n",
    "X_validation = std_scaler.transform(X_validation)"
   ]
  },
  {
   "cell_type": "code",
   "execution_count": 148,
   "id": "f2454b42-5519-48cf-a8dd-01a5354d6f47",
   "metadata": {},
   "outputs": [
    {
     "data": {
      "text/html": [
       "<style>#sk-container-id-32 {color: black;}#sk-container-id-32 pre{padding: 0;}#sk-container-id-32 div.sk-toggleable {background-color: white;}#sk-container-id-32 label.sk-toggleable__label {cursor: pointer;display: block;width: 100%;margin-bottom: 0;padding: 0.3em;box-sizing: border-box;text-align: center;}#sk-container-id-32 label.sk-toggleable__label-arrow:before {content: \"▸\";float: left;margin-right: 0.25em;color: #696969;}#sk-container-id-32 label.sk-toggleable__label-arrow:hover:before {color: black;}#sk-container-id-32 div.sk-estimator:hover label.sk-toggleable__label-arrow:before {color: black;}#sk-container-id-32 div.sk-toggleable__content {max-height: 0;max-width: 0;overflow: hidden;text-align: left;background-color: #f0f8ff;}#sk-container-id-32 div.sk-toggleable__content pre {margin: 0.2em;color: black;border-radius: 0.25em;background-color: #f0f8ff;}#sk-container-id-32 input.sk-toggleable__control:checked~div.sk-toggleable__content {max-height: 200px;max-width: 100%;overflow: auto;}#sk-container-id-32 input.sk-toggleable__control:checked~label.sk-toggleable__label-arrow:before {content: \"▾\";}#sk-container-id-32 div.sk-estimator input.sk-toggleable__control:checked~label.sk-toggleable__label {background-color: #d4ebff;}#sk-container-id-32 div.sk-label input.sk-toggleable__control:checked~label.sk-toggleable__label {background-color: #d4ebff;}#sk-container-id-32 input.sk-hidden--visually {border: 0;clip: rect(1px 1px 1px 1px);clip: rect(1px, 1px, 1px, 1px);height: 1px;margin: -1px;overflow: hidden;padding: 0;position: absolute;width: 1px;}#sk-container-id-32 div.sk-estimator {font-family: monospace;background-color: #f0f8ff;border: 1px dotted black;border-radius: 0.25em;box-sizing: border-box;margin-bottom: 0.5em;}#sk-container-id-32 div.sk-estimator:hover {background-color: #d4ebff;}#sk-container-id-32 div.sk-parallel-item::after {content: \"\";width: 100%;border-bottom: 1px solid gray;flex-grow: 1;}#sk-container-id-32 div.sk-label:hover label.sk-toggleable__label {background-color: #d4ebff;}#sk-container-id-32 div.sk-serial::before {content: \"\";position: absolute;border-left: 1px solid gray;box-sizing: border-box;top: 0;bottom: 0;left: 50%;z-index: 0;}#sk-container-id-32 div.sk-serial {display: flex;flex-direction: column;align-items: center;background-color: white;padding-right: 0.2em;padding-left: 0.2em;position: relative;}#sk-container-id-32 div.sk-item {position: relative;z-index: 1;}#sk-container-id-32 div.sk-parallel {display: flex;align-items: stretch;justify-content: center;background-color: white;position: relative;}#sk-container-id-32 div.sk-item::before, #sk-container-id-32 div.sk-parallel-item::before {content: \"\";position: absolute;border-left: 1px solid gray;box-sizing: border-box;top: 0;bottom: 0;left: 50%;z-index: -1;}#sk-container-id-32 div.sk-parallel-item {display: flex;flex-direction: column;z-index: 1;position: relative;background-color: white;}#sk-container-id-32 div.sk-parallel-item:first-child::after {align-self: flex-end;width: 50%;}#sk-container-id-32 div.sk-parallel-item:last-child::after {align-self: flex-start;width: 50%;}#sk-container-id-32 div.sk-parallel-item:only-child::after {width: 0;}#sk-container-id-32 div.sk-dashed-wrapped {border: 1px dashed gray;margin: 0 0.4em 0.5em 0.4em;box-sizing: border-box;padding-bottom: 0.4em;background-color: white;}#sk-container-id-32 div.sk-label label {font-family: monospace;font-weight: bold;display: inline-block;line-height: 1.2em;}#sk-container-id-32 div.sk-label-container {text-align: center;}#sk-container-id-32 div.sk-container {/* jupyter's `normalize.less` sets `[hidden] { display: none; }` but bootstrap.min.css set `[hidden] { display: none !important; }` so we also need the `!important` here to be able to override the default hidden behavior on the sphinx rendered scikit-learn.org. See: https://github.com/scikit-learn/scikit-learn/issues/21755 */display: inline-block !important;position: relative;}#sk-container-id-32 div.sk-text-repr-fallback {display: none;}</style><div id=\"sk-container-id-32\" class=\"sk-top-container\"><div class=\"sk-text-repr-fallback\"><pre>RandomForestClassifier(random_state=1)</pre><b>In a Jupyter environment, please rerun this cell to show the HTML representation or trust the notebook. <br />On GitHub, the HTML representation is unable to render, please try loading this page with nbviewer.org.</b></div><div class=\"sk-container\" hidden><div class=\"sk-item\"><div class=\"sk-estimator sk-toggleable\"><input class=\"sk-toggleable__control sk-hidden--visually\" id=\"sk-estimator-id-32\" type=\"checkbox\" checked><label for=\"sk-estimator-id-32\" class=\"sk-toggleable__label sk-toggleable__label-arrow\">RandomForestClassifier</label><div class=\"sk-toggleable__content\"><pre>RandomForestClassifier(random_state=1)</pre></div></div></div></div></div>"
      ],
      "text/plain": [
       "RandomForestClassifier(random_state=1)"
      ]
     },
     "execution_count": 148,
     "metadata": {},
     "output_type": "execute_result"
    }
   ],
   "source": [
    "# Fit the data\n",
    "from sklearn.ensemble import RandomForestClassifier\n",
    "classifier = RandomForestClassifier(n_estimators=100, criterion='gini', random_state=1)\n",
    "classifier.fit(X_train, y_train)"
   ]
  },
  {
   "cell_type": "code",
   "execution_count": 168,
   "id": "22e8b57c-d0c0-4ca2-8e7b-791182350dff",
   "metadata": {},
   "outputs": [
    {
     "name": "stdout",
     "output_type": "stream",
     "text": [
      "Training Data\n",
      "              precision    recall  f1-score   support\n",
      "\n",
      "         0.0       1.00      1.00      1.00       632\n",
      "         1.0       1.00      1.00      1.00       676\n",
      "\n",
      "    accuracy                           1.00      1308\n",
      "   macro avg       1.00      1.00      1.00      1308\n",
      "weighted avg       1.00      1.00      1.00      1308\n",
      "\n",
      "Validation Data\n",
      "              precision    recall  f1-score   support\n",
      "\n",
      "         0.0       0.61      0.52      0.56        69\n",
      "         1.0       0.62      0.70      0.66        77\n",
      "\n",
      "    accuracy                           0.62       146\n",
      "   macro avg       0.62      0.61      0.61       146\n",
      "weighted avg       0.62      0.62      0.61       146\n",
      "\n"
     ]
    }
   ],
   "source": [
    "# Training and validation metrics\n",
    "from sklearn.metrics import classification_report\n",
    "y_pred_train = classifier.predict(X_train)\n",
    "print(f'Training Data\\n{classification_report(y_train, y_pred_train)}')\n",
    "y_pred_validation = classifier.predict(X_validation)\n",
    "print(f'Validation Data\\n{classification_report(y_validation, y_pred_validation)}')"
   ]
  },
  {
   "cell_type": "code",
   "execution_count": 175,
   "id": "676fcd3b-00a7-4bd0-901a-32325aea3393",
   "metadata": {},
   "outputs": [
    {
     "name": "stdout",
     "output_type": "stream",
     "text": [
      "Training Data\n",
      "              precision    recall  f1-score   support\n",
      "\n",
      "         0.0       0.50      0.17      0.25        12\n",
      "         1.0       0.62      0.89      0.73        18\n",
      "\n",
      "    accuracy                           0.60        30\n",
      "   macro avg       0.56      0.53      0.49        30\n",
      "weighted avg       0.57      0.60      0.54        30\n",
      "\n",
      "Class 1 predictions : 26\n",
      "Class 0 predictions : 4\n"
     ]
    }
   ],
   "source": [
    "# test data metrics\n",
    "test = pd.read_csv('random_forest_test.csv', index_col=0)\n",
    "X_test = test.drop(columns='Target')\n",
    "X_test = std_scaler.transform(X_test)\n",
    "y_test = test['Target']\n",
    "y_pred_test = classifier.predict(X_test)\n",
    "print(f'Training Data\\n{classification_report(y_test, y_pred_test)}')\n",
    "print(f'Class 1 predictions : {len(y_pred_test[y_pred_test == 1])}')\n",
    "print(f'Class 0 predictions : {len(y_pred_test[y_pred_test == 0])}')"
   ]
  },
  {
   "cell_type": "markdown",
   "id": "ece51677-e398-45bd-95ed-91dd07981691",
   "metadata": {},
   "source": [
    "### The Random forest model gives us an extremely imbalanced class prediction"
   ]
  }
 ],
 "metadata": {
  "kernelspec": {
   "display_name": "Python 3 (ipykernel)",
   "language": "python",
   "name": "python3"
  },
  "language_info": {
   "codemirror_mode": {
    "name": "ipython",
    "version": 3
   },
   "file_extension": ".py",
   "mimetype": "text/x-python",
   "name": "python",
   "nbconvert_exporter": "python",
   "pygments_lexer": "ipython3",
   "version": "3.9.17"
  }
 },
 "nbformat": 4,
 "nbformat_minor": 5
}
