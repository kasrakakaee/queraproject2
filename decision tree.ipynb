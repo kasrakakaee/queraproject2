{
  "nbformat": 4,
  "nbformat_minor": 0,
  "metadata": {
    "colab": {
      "provenance": []
    },
    "kernelspec": {
      "name": "python3",
      "display_name": "Python 3"
    },
    "language_info": {
      "name": "python"
    }
  },
  "cells": [
    {
      "cell_type": "code",
      "execution_count": 1,
      "metadata": {
        "colab": {
          "base_uri": "https://localhost:8080/"
        },
        "id": "B3r6Y9-HetBT",
        "outputId": "93e0110f-d3e0-4349-8f21-867fb0829473"
      },
      "outputs": [
        {
          "output_type": "stream",
          "name": "stdout",
          "text": [
            "Requirement already satisfied: yfinance in /usr/local/lib/python3.10/dist-packages (0.2.31)\n",
            "Requirement already satisfied: pandas>=1.3.0 in /usr/local/lib/python3.10/dist-packages (from yfinance) (1.5.3)\n",
            "Requirement already satisfied: numpy>=1.16.5 in /usr/local/lib/python3.10/dist-packages (from yfinance) (1.23.5)\n",
            "Requirement already satisfied: requests>=2.31 in /usr/local/lib/python3.10/dist-packages (from yfinance) (2.31.0)\n",
            "Requirement already satisfied: multitasking>=0.0.7 in /usr/local/lib/python3.10/dist-packages (from yfinance) (0.0.11)\n",
            "Requirement already satisfied: lxml>=4.9.1 in /usr/local/lib/python3.10/dist-packages (from yfinance) (4.9.3)\n",
            "Requirement already satisfied: appdirs>=1.4.4 in /usr/local/lib/python3.10/dist-packages (from yfinance) (1.4.4)\n",
            "Requirement already satisfied: pytz>=2022.5 in /usr/local/lib/python3.10/dist-packages (from yfinance) (2023.3.post1)\n",
            "Requirement already satisfied: frozendict>=2.3.4 in /usr/local/lib/python3.10/dist-packages (from yfinance) (2.3.8)\n",
            "Requirement already satisfied: peewee>=3.16.2 in /usr/local/lib/python3.10/dist-packages (from yfinance) (3.16.3)\n",
            "Requirement already satisfied: beautifulsoup4>=4.11.1 in /usr/local/lib/python3.10/dist-packages (from yfinance) (4.11.2)\n",
            "Requirement already satisfied: html5lib>=1.1 in /usr/local/lib/python3.10/dist-packages (from yfinance) (1.1)\n",
            "Requirement already satisfied: soupsieve>1.2 in /usr/local/lib/python3.10/dist-packages (from beautifulsoup4>=4.11.1->yfinance) (2.5)\n",
            "Requirement already satisfied: six>=1.9 in /usr/local/lib/python3.10/dist-packages (from html5lib>=1.1->yfinance) (1.16.0)\n",
            "Requirement already satisfied: webencodings in /usr/local/lib/python3.10/dist-packages (from html5lib>=1.1->yfinance) (0.5.1)\n",
            "Requirement already satisfied: python-dateutil>=2.8.1 in /usr/local/lib/python3.10/dist-packages (from pandas>=1.3.0->yfinance) (2.8.2)\n",
            "Requirement already satisfied: charset-normalizer<4,>=2 in /usr/local/lib/python3.10/dist-packages (from requests>=2.31->yfinance) (3.3.0)\n",
            "Requirement already satisfied: idna<4,>=2.5 in /usr/local/lib/python3.10/dist-packages (from requests>=2.31->yfinance) (3.4)\n",
            "Requirement already satisfied: urllib3<3,>=1.21.1 in /usr/local/lib/python3.10/dist-packages (from requests>=2.31->yfinance) (2.0.6)\n",
            "Requirement already satisfied: certifi>=2017.4.17 in /usr/local/lib/python3.10/dist-packages (from requests>=2.31->yfinance) (2023.7.22)\n"
          ]
        }
      ],
      "source": [
        "!pip install yfinance\n"
      ]
    },
    {
      "cell_type": "code",
      "source": [
        "import sklearn\n",
        "import numpy as np\n",
        "import pandas as pd\n",
        "import yfinance as yf\n",
        "from sklearn import tree\n",
        "from sklearn.model_selection import train_test_split\n",
        "from sklearn.model_selection import cross_val_score\n",
        "from sklearn.metrics import confusion_matrix, auc, recall_score"
      ],
      "metadata": {
        "id": "XePdAL18hFw4"
      },
      "execution_count": 157,
      "outputs": []
    },
    {
      "cell_type": "code",
      "source": [
        "xmr = yf.Ticker(\"XMR-USD\")\n",
        "df_xmr_train = yf.download(tickers = \"XMR-USD\",\n",
        "                     start = '2017-11-09',\n",
        "                     end = '2023-09-09',\n",
        "                     interval = \"1d\")\n",
        "df_xmr_test = yf.download(tickers = \"XMR-USD\",\n",
        "                     start = '2023-09-08',\n",
        "                     end = '2023-10-07',\n",
        "                     interval = \"1d\")"
      ],
      "metadata": {
        "colab": {
          "base_uri": "https://localhost:8080/"
        },
        "id": "haOHNp_FhTnU",
        "outputId": "9268e98c-05df-4d7e-c21a-b50ce7d184d6"
      },
      "execution_count": 27,
      "outputs": [
        {
          "output_type": "stream",
          "name": "stdout",
          "text": [
            "[*********************100%%**********************]  1 of 1 completed\n",
            "[*********************100%%**********************]  1 of 1 completed\n"
          ]
        }
      ]
    },
    {
      "cell_type": "code",
      "source": [
        "df_train = pd.read_csv('/content/train.csv')\n",
        "df_test = pd.read_csv('/content/test.csv')\n",
        "df_train.columns"
      ],
      "metadata": {
        "colab": {
          "base_uri": "https://localhost:8080/"
        },
        "id": "XkCt3XZhv3Jt",
        "outputId": "3cbb1105-373a-424d-c9b7-921d0c480be3"
      },
      "execution_count": 185,
      "outputs": [
        {
          "output_type": "execute_result",
          "data": {
            "text/plain": [
              "Index(['Unnamed: 0', 'Date', 'XMR-USD Open', 'XMR-USD High', 'XMR-USD Low',\n",
              "       'XMR-USD Close', 'XMR-USD Volume', 'Change', 'Percentage Change',\n",
              "       'Increase', 'Target', 'RSI', 'SMA', 'EMA', 'GC=F Open', 'GC=F High',\n",
              "       'GC=F Low', 'GC=F Close', 'GC=F Volume', 'GoldChangePercent',\n",
              "       '^GSPC Open', '^GSPC High', '^GSPC Low', '^GSPC Close', '^GSPC Volume',\n",
              "       'GSPCChangePercent', 'HG=F Open', 'HG=F High', 'HG=F Low', 'HG=F Close',\n",
              "       'HG=F Volume', 'SilverChangePercent', 'ETH-USD Open', 'ETH-USD High',\n",
              "       'ETH-USD Low', 'ETH-USD Close', 'ETH-USD Volume', 'EthChangePercent',\n",
              "       'BTC-USD Open', 'BTC-USD High', 'BTC-USD Low', 'BTC-USD Close',\n",
              "       'BTC-USD Volume', 'BtcChanePercent'],\n",
              "      dtype='object')"
            ]
          },
          "metadata": {},
          "execution_count": 185
        }
      ]
    },
    {
      "cell_type": "code",
      "source": [
        "def cvscore(X, n_hist=1):\n",
        "  X_test = df_test[X.columns].copy()\n",
        "  Y_test = df_test['Target'].copy()\n",
        "  Y = df_train['Target'].copy()\n",
        "\n",
        "  price = df_train['XMR-USD Close']\n",
        "  for i in range(n_hist):\n",
        "    X[f'XMR{-i}'] = np.roll(price, i)\n",
        "\n",
        "  X = X[n_hist:]\n",
        "  Y = Y[n_hist:]\n",
        "\n",
        "  na = X[X.isna().any(axis=1)].index\n",
        "  X=X.drop(na)\n",
        "  Y=Y.drop(na)\n",
        "  print(X[X.isna().any(axis=1)].index)\n",
        "\n",
        "  clf = tree.DecisionTreeClassifier(random_state=42)\n",
        "  cvs = cross_val_score(clf, X, Y, cv=10)\n",
        "\n",
        "  price = df_test['XMR-USD Close']\n",
        "  for i in range(n_hist):\n",
        "    X_test[f'XMR{-i}'] = np.roll(price, i)\n",
        "\n",
        "  X_test = X_test[n_hist:]\n",
        "  Y_test = Y_test[n_hist:]\n",
        "\n",
        "  na = X_test[X_test.isna().any(axis=1)].index\n",
        "  X_test.drop(na)\n",
        "  Y_test.drop(na)\n",
        "\n",
        "  clf.fit(X,Y)\n",
        "  y_pred = clf.predict(X_test)\n",
        "\n",
        "  print(confusion_matrix(Y_test, y_pred))\n",
        "  print(recall_score(Y_test, y_pred))\n",
        "  print(np.mean(cvs))\n",
        "  print(cvs)\n",
        "  return"
      ],
      "metadata": {
        "id": "YZygmyQi3roE"
      },
      "execution_count": 204,
      "outputs": []
    },
    {
      "cell_type": "code",
      "source": [
        "X = pd.DataFrame()\n",
        "n_hist = 3\n",
        "\n",
        "X['XMR-USD Open'] = df_train['XMR-USD Open']\n",
        "X['XMR-USD High'] = df_train['XMR-USD High']\n",
        "X['XMR-USD Low'] = df_train['XMR-USD Low']\n",
        "X['XMR-USD Volume'] = df_train['XMR-USD Volume']\n",
        "\n",
        "print(X.columns)\n",
        "\n",
        "cvscore(X, n_hist)"
      ],
      "metadata": {
        "colab": {
          "base_uri": "https://localhost:8080/"
        },
        "id": "cx6P-yPvv-8-",
        "outputId": "35c5d1cf-164c-42af-8d76-46715ba127b7"
      },
      "execution_count": 173,
      "outputs": [
        {
          "output_type": "stream",
          "name": "stdout",
          "text": [
            "Index(['XMR-USD Open', 'XMR-USD High', 'XMR-USD Low', 'XMR-USD Volume'], dtype='object')\n",
            "[[ 4  5]\n",
            " [ 8 10]]\n",
            "0.5555555555555556\n",
            "0.44360217911241034\n",
            "[0.48826291 0.38028169 0.43661972 0.42253521 0.42253521 0.41314554\n",
            " 0.43396226 0.41981132 0.5        0.51886792]\n"
          ]
        }
      ]
    },
    {
      "cell_type": "code",
      "source": [
        "X = pd.DataFrame()\n",
        "n_hist = 3\n",
        "\n",
        "X['Percentage Change'] = df_train['Percentage Change'].copy()\n",
        "\n",
        "print(X.columns)\n",
        "\n",
        "cvscore(X, n_hist)"
      ],
      "metadata": {
        "colab": {
          "base_uri": "https://localhost:8080/"
        },
        "id": "2mo8btsnum3N",
        "outputId": "609bb83e-56f4-4fde-db26-1383599bd780"
      },
      "execution_count": 178,
      "outputs": [
        {
          "output_type": "stream",
          "name": "stdout",
          "text": [
            "Index(['Percentage Change'], dtype='object')\n",
            "[[ 6  3]\n",
            " [ 6 12]]\n",
            "0.6666666666666666\n",
            "0.5084972096731332\n",
            "[0.49765258 0.5258216  0.48826291 0.4600939  0.5258216  0.48826291\n",
            " 0.5754717  0.55188679 0.45283019 0.51886792]\n"
          ]
        }
      ]
    },
    {
      "cell_type": "code",
      "source": [
        "X = pd.DataFrame()\n",
        "n_hist = 3\n",
        "\n",
        "X['XMR-USD Open'] = df_train['XMR-USD Open']\n",
        "X['XMR-USD High'] = df_train['XMR-USD High']\n",
        "X['XMR-USD Low'] = df_train['XMR-USD Low']\n",
        "X['XMR-USD Volume'] = df_train['XMR-USD Volume']\n",
        "X['Percentage Change'] = df_train['Percentage Change']\n",
        "\n",
        "print(X.columns)\n",
        "\n",
        "cvscore(X, n_hist)"
      ],
      "metadata": {
        "colab": {
          "base_uri": "https://localhost:8080/"
        },
        "id": "6pGd5KUw9LzY",
        "outputId": "9057b87c-7901-48a7-e532-29c328d55712"
      },
      "execution_count": 179,
      "outputs": [
        {
          "output_type": "stream",
          "name": "stdout",
          "text": [
            "Index(['XMR-USD Open', 'XMR-USD High', 'XMR-USD Low', 'XMR-USD Volume',\n",
            "       'Percentage Change'],\n",
            "      dtype='object')\n",
            "[[ 5  4]\n",
            " [ 5 13]]\n",
            "0.7222222222222222\n",
            "0.4694414917176012\n",
            "[0.51643192 0.40375587 0.43661972 0.46948357 0.50234742 0.45539906\n",
            " 0.53773585 0.48584906 0.43396226 0.45283019]\n"
          ]
        }
      ]
    },
    {
      "cell_type": "code",
      "source": [
        "X = pd.DataFrame()\n",
        "n_hist = 5\n",
        "\n",
        "X['XMR-USD Open'] = df_train['XMR-USD Open']\n",
        "X['XMR-USD High'] = df_train['XMR-USD High']\n",
        "X['XMR-USD Low'] = df_train['XMR-USD Low']\n",
        "X['XMR-USD Volume'] = df_train['XMR-USD Volume']\n",
        "X['Percentage Change'] = df_train['Percentage Change']\n",
        "\n",
        "print(X.columns)\n",
        "\n",
        "cvscore(X, n_hist)"
      ],
      "metadata": {
        "colab": {
          "base_uri": "https://localhost:8080/"
        },
        "id": "lJnge5y19R1i",
        "outputId": "59b313a3-8b97-4f55-960b-c18d7241399d"
      },
      "execution_count": 180,
      "outputs": [
        {
          "output_type": "stream",
          "name": "stdout",
          "text": [
            "Index(['XMR-USD Open', 'XMR-USD High', 'XMR-USD Low', 'XMR-USD Volume',\n",
            "       'Percentage Change'],\n",
            "      dtype='object')\n",
            "[[ 6  3]\n",
            " [ 2 14]]\n",
            "0.875\n",
            "0.4708477278766942\n",
            "[0.4741784  0.48356808 0.45539906 0.38967136 0.47641509 0.4245283\n",
            " 0.49056604 0.50471698 0.49056604 0.51886792]\n"
          ]
        }
      ]
    },
    {
      "cell_type": "code",
      "source": [
        "X = pd.DataFrame()\n",
        "n_hist = 1\n",
        "\n",
        "X['XMR-USD Open'] = df_train['XMR-USD Open']\n",
        "X['XMR-USD High'] = df_train['XMR-USD High']\n",
        "X['XMR-USD Low'] = df_train['XMR-USD Low']\n",
        "X['XMR-USD Volume'] = df_train['XMR-USD Volume']\n",
        "X['Percentage Change'] = df_train['Percentage Change']\n",
        "\n",
        "print(X.columns)\n",
        "\n",
        "cvscore(X, n_hist)"
      ],
      "metadata": {
        "id": "MlghYplf_w08",
        "outputId": "b2bcf511-c97b-46d5-a019-412417ff165d",
        "colab": {
          "base_uri": "https://localhost:8080/"
        }
      },
      "execution_count": 208,
      "outputs": [
        {
          "output_type": "stream",
          "name": "stdout",
          "text": [
            "Index(['XMR-USD Open', 'XMR-USD High', 'XMR-USD Low', 'XMR-USD Volume',\n",
            "       'Percentage Change'],\n",
            "      dtype='object')\n",
            "Int64Index([], dtype='int64')\n",
            "[[ 7  4]\n",
            " [ 6 12]]\n",
            "0.6666666666666666\n",
            "0.4727234476038622\n",
            "[0.53051643 0.42723005 0.48356808 0.44600939 0.48356808 0.44131455\n",
            " 0.49295775 0.52112676 0.40566038 0.49528302]\n"
          ]
        }
      ]
    },
    {
      "cell_type": "code",
      "source": [
        "X = pd.DataFrame()\n",
        "n_hist = 3\n",
        "\n",
        "X['BTC-USD Close'] = df_train['BTC-USD Close'].copy()\n",
        "X['Percentage Change'] = df_train['Percentage Change'].copy()\n",
        "print(X.columns)\n",
        "Y = df_train['Target']\n",
        "\n",
        "\n",
        "''''BTC-USD Close'\n",
        "'BtcChanePercent'\n",
        "'EthChangePercent'\n",
        "'RSI'\n",
        "'SMA'\n",
        "'EMA'\n",
        "'GC=F Close'\n",
        "'GoldChangePercent'''''\n",
        "cvscore(X, n_hist)"
      ],
      "metadata": {
        "colab": {
          "base_uri": "https://localhost:8080/"
        },
        "id": "y8wRYWZY4XL7",
        "outputId": "206d5bec-2791-4a04-caf2-06b9880ad115"
      },
      "execution_count": 198,
      "outputs": [
        {
          "output_type": "stream",
          "name": "stdout",
          "text": [
            "Index(['BTC-USD Close', 'Percentage Change'], dtype='object')\n",
            "[[ 2  7]\n",
            " [ 2 16]]\n",
            "0.8888888888888888\n",
            "0.46665337939587215\n",
            "[0.5399061  0.45070423 0.46478873 0.3943662  0.46478873 0.38028169\n",
            " 0.51415094 0.45283019 0.49056604 0.51415094]\n"
          ]
        }
      ]
    },
    {
      "cell_type": "code",
      "source": [
        "X = pd.DataFrame()\n",
        "n_hist = 3\n",
        "\n",
        "X['GoldChangePercent'] = df_train['GoldChangePercent'].copy()\n",
        "X['BTC-USD Close'] = df_train['BTC-USD Close'].copy()\n",
        "X['Percentage Change'] = df_train['Percentage Change'].copy()\n",
        "print(X.columns)\n",
        "Y = df_train['Target']\n",
        "\n",
        "\n",
        "''''BTC-USD Close'\n",
        "'BtcChanePercent'\n",
        "'EthChangePercent'\n",
        "'RSI'\n",
        "'SMA'\n",
        "'EMA'\n",
        "'GC=F Close'\n",
        "'GoldChangePercent'''''\n",
        "cvscore(X, n_hist)"
      ],
      "metadata": {
        "colab": {
          "base_uri": "https://localhost:8080/"
        },
        "id": "kAfalvuq-cID",
        "outputId": "516a91fe-5520-4f7d-e9da-7a856fd12363"
      },
      "execution_count": 197,
      "outputs": [
        {
          "output_type": "stream",
          "name": "stdout",
          "text": [
            "Index(['GoldChangePercent', 'BTC-USD Close', 'Percentage Change'], dtype='object')\n",
            "[[ 2  7]\n",
            " [ 6 12]]\n",
            "0.6666666666666666\n",
            "0.47136371689255024\n",
            "[0.49295775 0.45539906 0.46948357 0.39906103 0.42253521 0.46948357\n",
            " 0.51886792 0.50943396 0.48113208 0.49528302]\n"
          ]
        }
      ]
    },
    {
      "cell_type": "code",
      "source": [
        "X = pd.DataFrame()\n",
        "n_hist = 3\n",
        "\n",
        "X['SMA'] = df_train['SMA'].copy()\n",
        "X['RSI'] = df_train['RSI'].copy()\n",
        "X['BTC-USD Close'] = df_train['BTC-USD Close'].copy()\n",
        "X['Percentage Change'] = df_train['Percentage Change'].copy()\n",
        "print(X.columns)\n",
        "Y = df_train['Target']\n",
        "\n",
        "\n",
        "''''BTC-USD Close'\n",
        "'BtcChanePercent'\n",
        "'EthChangePercent'\n",
        "'RSI'\n",
        "'SMA'\n",
        "'EMA'\n",
        "'GC=F Close'\n",
        "'GoldChangePercent'''''\n",
        "cvscore(X, n_hist)"
      ],
      "metadata": {
        "colab": {
          "base_uri": "https://localhost:8080/"
        },
        "id": "nV6j-3TO-oy0",
        "outputId": "18de1440-a00c-46ee-b39c-ed4cb7239471"
      },
      "execution_count": 202,
      "outputs": [
        {
          "output_type": "stream",
          "name": "stdout",
          "text": [
            "Index(['SMA', 'RSI', 'BTC-USD Close', 'Percentage Change'], dtype='object')\n",
            "[[ 8  1]\n",
            " [13  5]]\n",
            "0.2777777777777778\n",
            "0.4369198783868372\n",
            "[0.46698113 0.4009434  0.36320755 0.41037736 0.45754717 0.38388626\n",
            " 0.45971564 0.43601896 0.46919431 0.52132701]\n"
          ]
        }
      ]
    },
    {
      "cell_type": "code",
      "source": [
        "X = pd.DataFrame()\n",
        "n_hist = 3\n",
        "\n",
        "X['GoldChangePercent'] = df_train['GoldChangePercent'].copy()\n",
        "X['BtcChanePercent'] = df_train['BtcChanePercent'].copy()\n",
        "X['BTC-USD Close'] = df_train['BTC-USD Close'].copy()\n",
        "X['Percentage Change'] = df_train['Percentage Change'].copy()\n",
        "print(X.columns)\n",
        "Y = df_train['Target']\n",
        "\n",
        "\n",
        "''''BTC-USD Close'\n",
        "'BtcChanePercent'\n",
        "'EthChangePercent'\n",
        "'RSI'\n",
        "'SMA'\n",
        "'EMA'\n",
        "'GC=F Close'\n",
        "'GoldChangePercent'''''\n",
        "cvscore(X, n_hist)"
      ],
      "metadata": {
        "colab": {
          "base_uri": "https://localhost:8080/"
        },
        "id": "PzDQ2nb5_TqP",
        "outputId": "81054309-ee4a-4f6c-a7a1-6e24bc662803"
      },
      "execution_count": 206,
      "outputs": [
        {
          "output_type": "stream",
          "name": "stdout",
          "text": [
            "Index(['GoldChangePercent', 'BtcChanePercent', 'BTC-USD Close',\n",
            "       'Percentage Change'],\n",
            "      dtype='object')\n",
            "Int64Index([], dtype='int64')\n",
            "[[ 3  6]\n",
            " [ 6 12]]\n",
            "0.6666666666666666\n",
            "0.4835924351138276\n",
            "[0.53051643 0.45070423 0.45539906 0.48356808 0.3943662  0.46948357\n",
            " 0.55188679 0.51886792 0.48584906 0.49528302]\n"
          ]
        }
      ]
    },
    {
      "cell_type": "code",
      "source": [
        "X = pd.DataFrame()\n",
        "n_hist = 1\n",
        "\n",
        "X['GoldChangePercent'] = df_train['GoldChangePercent'].copy()\n",
        "X['BtcChanePercent'] = df_train['BtcChanePercent'].copy()\n",
        "X['BTC-USD Close'] = df_train['BTC-USD Close'].copy()\n",
        "X['Percentage Change'] = df_train['Percentage Change'].copy()\n",
        "print(X.columns)\n",
        "Y = df_train['Target']\n",
        "\n",
        "\n",
        "''''BTC-USD Close'\n",
        "'BtcChanePercent'\n",
        "'EthChangePercent'\n",
        "'RSI'\n",
        "'SMA'\n",
        "'EMA'\n",
        "'GC=F Close'\n",
        "'GoldChangePercent'''''\n",
        "cvscore(X, n_hist)"
      ],
      "metadata": {
        "colab": {
          "base_uri": "https://localhost:8080/"
        },
        "id": "RwWlR95l_r4N",
        "outputId": "e5df8673-ab2a-4274-a932-33ef71c14d6a"
      },
      "execution_count": 207,
      "outputs": [
        {
          "output_type": "stream",
          "name": "stdout",
          "text": [
            "Index(['GoldChangePercent', 'BtcChanePercent', 'BTC-USD Close',\n",
            "       'Percentage Change'],\n",
            "      dtype='object')\n",
            "Int64Index([], dtype='int64')\n",
            "[[ 2  9]\n",
            " [ 6 12]]\n",
            "0.6666666666666666\n",
            "0.48123173000265745\n",
            "[0.50234742 0.46948357 0.42723005 0.46948357 0.42253521 0.43661972\n",
            " 0.5258216  0.53521127 0.51886792 0.50471698]\n"
          ]
        }
      ]
    }
  ]
}