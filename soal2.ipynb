{
 "cells": [
  {
   "cell_type": "code",
   "execution_count": 1,
   "id": "37d68b90",
   "metadata": {},
   "outputs": [],
   "source": [
    "import numpy as np\n",
    "import pandas as pd\n",
    "import matplotlib.pyplot as plt\n",
    "import sklearn\n",
    "from sklearn.cluster import KMeans\n",
    "from sklearn.cluster import DBSCAN\n",
    "from scipy.cluster.hierarchy import linkage, dendrogram\n",
    "from sklearn.preprocessing import OneHotEncoder\n",
    "from scipy.spatial.distance import pdist"
   ]
  },
  {
   "cell_type": "markdown",
   "id": "0d6c52a4",
   "metadata": {},
   "source": [
    "soale 2"
   ]
  },
  {
   "cell_type": "code",
   "execution_count": 2,
   "id": "8d674a8b",
   "metadata": {},
   "outputs": [
    {
     "data": {
      "text/html": [
       "<div>\n",
       "<style scoped>\n",
       "    .dataframe tbody tr th:only-of-type {\n",
       "        vertical-align: middle;\n",
       "    }\n",
       "\n",
       "    .dataframe tbody tr th {\n",
       "        vertical-align: top;\n",
       "    }\n",
       "\n",
       "    .dataframe thead th {\n",
       "        text-align: right;\n",
       "    }\n",
       "</style>\n",
       "<table border=\"1\" class=\"dataframe\">\n",
       "  <thead>\n",
       "    <tr style=\"text-align: right;\">\n",
       "      <th></th>\n",
       "      <th>Symbol</th>\n",
       "      <th>Volume</th>\n",
       "      <th>MarketCap</th>\n",
       "      <th>TotalSupply</th>\n",
       "      <th>ProofType</th>\n",
       "      <th>Network</th>\n",
       "    </tr>\n",
       "  </thead>\n",
       "  <tbody>\n",
       "    <tr>\n",
       "      <th>0</th>\n",
       "      <td>LEO</td>\n",
       "      <td>1.823284e+06</td>\n",
       "      <td>3586504072</td>\n",
       "      <td>985,239,504</td>\n",
       "      <td>PoS</td>\n",
       "      <td>Ethereum</td>\n",
       "    </tr>\n",
       "    <tr>\n",
       "      <th>1</th>\n",
       "      <td>UNI</td>\n",
       "      <td>9.918768e+07</td>\n",
       "      <td>3992451215</td>\n",
       "      <td>1,000,000,000</td>\n",
       "      <td>PoS</td>\n",
       "      <td>Ethereum</td>\n",
       "    </tr>\n",
       "    <tr>\n",
       "      <th>2</th>\n",
       "      <td>WBTC</td>\n",
       "      <td>1.415410e+08</td>\n",
       "      <td>4237575489</td>\n",
       "      <td>163,106</td>\n",
       "      <td>PoW</td>\n",
       "      <td>Ethereum</td>\n",
       "    </tr>\n",
       "    <tr>\n",
       "      <th>3</th>\n",
       "      <td>AVAX</td>\n",
       "      <td>2.197065e+08</td>\n",
       "      <td>4901630273</td>\n",
       "      <td>431,804,080</td>\n",
       "      <td>PoS</td>\n",
       "      <td>Avalanche</td>\n",
       "    </tr>\n",
       "    <tr>\n",
       "      <th>4</th>\n",
       "      <td>DAI</td>\n",
       "      <td>2.177113e+08</td>\n",
       "      <td>5513660644</td>\n",
       "      <td>5,347,888,596</td>\n",
       "      <td>stablecoin</td>\n",
       "      <td>Ethereum</td>\n",
       "    </tr>\n",
       "    <tr>\n",
       "      <th>5</th>\n",
       "      <td>SHIB</td>\n",
       "      <td>2.479944e+08</td>\n",
       "      <td>5606251419</td>\n",
       "      <td>589,589,040,239,380</td>\n",
       "      <td>PoS</td>\n",
       "      <td>Ethereum</td>\n",
       "    </tr>\n",
       "    <tr>\n",
       "      <th>6</th>\n",
       "      <td>LTC</td>\n",
       "      <td>5.913019e+08</td>\n",
       "      <td>5729295460</td>\n",
       "      <td>84,000,000</td>\n",
       "      <td>PoW</td>\n",
       "      <td>Litecoin</td>\n",
       "    </tr>\n",
       "    <tr>\n",
       "      <th>7</th>\n",
       "      <td>TRX</td>\n",
       "      <td>2.719028e+08</td>\n",
       "      <td>6018922345</td>\n",
       "      <td>88,996,805,683</td>\n",
       "      <td>PoS</td>\n",
       "      <td>Tron</td>\n",
       "    </tr>\n",
       "    <tr>\n",
       "      <th>8</th>\n",
       "      <td>DOT</td>\n",
       "      <td>2.035592e+08</td>\n",
       "      <td>6659549868</td>\n",
       "      <td>1,364,182,225</td>\n",
       "      <td>PoW</td>\n",
       "      <td>Polkadot</td>\n",
       "    </tr>\n",
       "    <tr>\n",
       "      <th>9</th>\n",
       "      <td>MATIC</td>\n",
       "      <td>4.232990e+08</td>\n",
       "      <td>8053184610</td>\n",
       "      <td>10,000,000,000</td>\n",
       "      <td>PoS</td>\n",
       "      <td>Polygon</td>\n",
       "    </tr>\n",
       "    <tr>\n",
       "      <th>10</th>\n",
       "      <td>SOL</td>\n",
       "      <td>6.338963e+08</td>\n",
       "      <td>8349992848</td>\n",
       "      <td>559,509,636</td>\n",
       "      <td>PoH</td>\n",
       "      <td>Solana</td>\n",
       "    </tr>\n",
       "    <tr>\n",
       "      <th>11</th>\n",
       "      <td>DOGE</td>\n",
       "      <td>6.311493e+08</td>\n",
       "      <td>10342393982</td>\n",
       "      <td>141,339,436,384</td>\n",
       "      <td>PoW</td>\n",
       "      <td>Dogecoin</td>\n",
       "    </tr>\n",
       "    <tr>\n",
       "      <th>12</th>\n",
       "      <td>ADA</td>\n",
       "      <td>3.647996e+08</td>\n",
       "      <td>12109137813</td>\n",
       "      <td>36,244,287,753</td>\n",
       "      <td>PoS</td>\n",
       "      <td>Cardano</td>\n",
       "    </tr>\n",
       "    <tr>\n",
       "      <th>13</th>\n",
       "      <td>BUSD</td>\n",
       "      <td>5.084396e+09</td>\n",
       "      <td>12132993575</td>\n",
       "      <td>2,213,836,281</td>\n",
       "      <td>stablecoin</td>\n",
       "      <td>Binance Smart Chain</td>\n",
       "    </tr>\n",
       "    <tr>\n",
       "      <th>14</th>\n",
       "      <td>XRP</td>\n",
       "      <td>1.349225e+09</td>\n",
       "      <td>23581660945</td>\n",
       "      <td>99,988,380,689</td>\n",
       "      <td>RPCA</td>\n",
       "      <td>XRP Ledger</td>\n",
       "    </tr>\n",
       "    <tr>\n",
       "      <th>15</th>\n",
       "      <td>USDC</td>\n",
       "      <td>3.665726e+09</td>\n",
       "      <td>37317414284</td>\n",
       "      <td>25,540,319,537</td>\n",
       "      <td>stablecoin</td>\n",
       "      <td>Ethereum</td>\n",
       "    </tr>\n",
       "    <tr>\n",
       "      <th>16</th>\n",
       "      <td>BNB</td>\n",
       "      <td>6.807966e+08</td>\n",
       "      <td>44599661514</td>\n",
       "      <td>153,845,639</td>\n",
       "      <td>PoS</td>\n",
       "      <td>Binance Smart Chain</td>\n",
       "    </tr>\n",
       "    <tr>\n",
       "      <th>17</th>\n",
       "      <td>USDT</td>\n",
       "      <td>3.314948e+10</td>\n",
       "      <td>74588184814</td>\n",
       "      <td>866,300,000.00</td>\n",
       "      <td>stablecoin</td>\n",
       "      <td>Ethereum</td>\n",
       "    </tr>\n",
       "    <tr>\n",
       "      <th>18</th>\n",
       "      <td>ETH</td>\n",
       "      <td>8.843689e+09</td>\n",
       "      <td>196082390477</td>\n",
       "      <td>120,249,203</td>\n",
       "      <td>PoS</td>\n",
       "      <td>Ethereum</td>\n",
       "    </tr>\n",
       "    <tr>\n",
       "      <th>19</th>\n",
       "      <td>BTC</td>\n",
       "      <td>2.296764e+10</td>\n",
       "      <td>459083734664</td>\n",
       "      <td>19,508,418</td>\n",
       "      <td>PoW</td>\n",
       "      <td>Bitcoin</td>\n",
       "    </tr>\n",
       "  </tbody>\n",
       "</table>\n",
       "</div>"
      ],
      "text/plain": [
       "   Symbol        Volume     MarketCap          TotalSupply   ProofType  \\\n",
       "0     LEO  1.823284e+06    3586504072          985,239,504         PoS   \n",
       "1     UNI  9.918768e+07    3992451215        1,000,000,000         PoS   \n",
       "2    WBTC  1.415410e+08    4237575489              163,106         PoW   \n",
       "3    AVAX  2.197065e+08    4901630273          431,804,080         PoS   \n",
       "4     DAI  2.177113e+08    5513660644        5,347,888,596  stablecoin   \n",
       "5    SHIB  2.479944e+08    5606251419  589,589,040,239,380         PoS   \n",
       "6     LTC  5.913019e+08    5729295460           84,000,000         PoW   \n",
       "7     TRX  2.719028e+08    6018922345       88,996,805,683         PoS   \n",
       "8     DOT  2.035592e+08    6659549868        1,364,182,225         PoW   \n",
       "9   MATIC  4.232990e+08    8053184610       10,000,000,000         PoS   \n",
       "10    SOL  6.338963e+08    8349992848          559,509,636         PoH   \n",
       "11   DOGE  6.311493e+08   10342393982      141,339,436,384         PoW   \n",
       "12    ADA  3.647996e+08   12109137813       36,244,287,753         PoS   \n",
       "13   BUSD  5.084396e+09   12132993575        2,213,836,281  stablecoin   \n",
       "14    XRP  1.349225e+09   23581660945       99,988,380,689        RPCA   \n",
       "15   USDC  3.665726e+09   37317414284       25,540,319,537  stablecoin   \n",
       "16    BNB  6.807966e+08   44599661514          153,845,639         PoS   \n",
       "17   USDT  3.314948e+10   74588184814       866,300,000.00  stablecoin   \n",
       "18    ETH  8.843689e+09  196082390477          120,249,203         PoS   \n",
       "19    BTC  2.296764e+10  459083734664           19,508,418         PoW   \n",
       "\n",
       "                Network  \n",
       "0              Ethereum  \n",
       "1              Ethereum  \n",
       "2              Ethereum  \n",
       "3             Avalanche  \n",
       "4              Ethereum  \n",
       "5              Ethereum  \n",
       "6              Litecoin  \n",
       "7                  Tron  \n",
       "8              Polkadot  \n",
       "9               Polygon  \n",
       "10               Solana  \n",
       "11             Dogecoin  \n",
       "12              Cardano  \n",
       "13  Binance Smart Chain  \n",
       "14           XRP Ledger  \n",
       "15             Ethereum  \n",
       "16  Binance Smart Chain  \n",
       "17             Ethereum  \n",
       "18             Ethereum  \n",
       "19              Bitcoin  "
      ]
     },
     "execution_count": 2,
     "metadata": {},
     "output_type": "execute_result"
    }
   ],
   "source": [
    "df = pd.read_csv('coins_data.csv')\n",
    "df"
   ]
  },
  {
   "cell_type": "code",
   "execution_count": 3,
   "id": "b1095540",
   "metadata": {},
   "outputs": [
    {
     "data": {
      "text/plain": [
       "<matplotlib.collections.PathCollection at 0x1fd7eb285b0>"
      ]
     },
     "execution_count": 3,
     "metadata": {},
     "output_type": "execute_result"
    },
    {
     "data": {
      "image/png": "[encoded data removed]",
      "text/plain": [
       "<Figure size 640x480 with 1 Axes>"
      ]
     },
     "metadata": {},
     "output_type": "display_data"
    }
   ],
   "source": [
    "Data = np.stack((df['Volume'], df['MarketCap']), axis=1)\n",
    "plt.scatter(df['Volume'], df['MarketCap'])"
   ]
  },
  {
   "cell_type": "code",
   "execution_count": 4,
   "id": "7a449f44",
   "metadata": {},
   "outputs": [],
   "source": [
    "dist = pdist(Data, metric='euclidean')"
   ]
  },
  {
   "cell_type": "code",
   "execution_count": 5,
   "id": "595ee7e0",
   "metadata": {},
   "outputs": [
    {
     "data": {
      "image/png": "[encoded data removed]",
      "text/plain": [
       "<Figure size 640x480 with 1 Axes>"
      ]
     },
     "metadata": {},
     "output_type": "display_data"
    }
   ],
   "source": [
    "linkage_data = linkage(dist, method='ward', metric='euclidean')\n",
    "dendrogram(linkage_data)\n",
    "\n",
    "plt.show()"
   ]
  },
  {
   "cell_type": "code",
   "execution_count": 6,
   "id": "db9513ad",
   "metadata": {},
   "outputs": [
    {
     "name": "stdout",
     "output_type": "stream",
     "text": [
      "[[0. 1. 0. 0. 0.]\n",
      " [0. 1. 0. 0. 0.]\n",
      " [0. 0. 1. 0. 0.]\n",
      " [0. 1. 0. 0. 0.]\n",
      " [0. 0. 0. 0. 1.]\n",
      " [0. 1. 0. 0. 0.]\n",
      " [0. 0. 1. 0. 0.]\n",
      " [0. 1. 0. 0. 0.]\n",
      " [0. 0. 1. 0. 0.]\n",
      " [0. 1. 0. 0. 0.]\n",
      " [1. 0. 0. 0. 0.]\n",
      " [0. 0. 1. 0. 0.]\n",
      " [0. 1. 0. 0. 0.]\n",
      " [0. 0. 0. 0. 1.]\n",
      " [0. 0. 0. 1. 0.]\n",
      " [0. 0. 0. 0. 1.]\n",
      " [0. 1. 0. 0. 0.]\n",
      " [0. 0. 0. 0. 1.]\n",
      " [0. 1. 0. 0. 0.]\n",
      " [0. 0. 1. 0. 0.]]\n"
     ]
    }
   ],
   "source": [
    "encoder = OneHotEncoder()\n",
    "encoded = encoder.fit_transform(np.array(df['ProofType']).reshape(-1,1)).toarray()\n",
    "print(encoded)"
   ]
  },
  {
   "cell_type": "code",
   "execution_count": 7,
   "id": "a9bb9360",
   "metadata": {},
   "outputs": [
    {
     "name": "stdout",
     "output_type": "stream",
     "text": [
      "[[0.        ]\n",
      " [0.00293729]\n",
      " [0.00421501]\n",
      " [0.00657311]\n",
      " [0.00651292]]\n",
      "[[0.        ]\n",
      " [0.00089122]\n",
      " [0.00142936]\n",
      " [0.00288723]\n",
      " [0.00423089]]\n"
     ]
    }
   ],
   "source": [
    "volume = np.array(df['Volume'])\n",
    "market_cap = np.array(df['MarketCap'])\n",
    "volume = (volume - np.min(volume)) / (np.max(volume) - np.min(volume))\n",
    "market_cap = (market_cap - np.min(market_cap)) / (np.max(market_cap) - np.min(market_cap))\n",
    "volume = np.expand_dims(volume, 1)\n",
    "market_cap = np.expand_dims(market_cap, 1)\n",
    "print(volume[:5])\n",
    "print(market_cap[:5])"
   ]
  },
  {
   "cell_type": "code",
   "execution_count": 8,
   "id": "185e211b",
   "metadata": {
    "scrolled": true
   },
   "outputs": [
    {
     "name": "stdout",
     "output_type": "stream",
     "text": [
      "[[0.00000000e+00 1.00000000e+00 0.00000000e+00 0.00000000e+00\n",
      "  0.00000000e+00 0.00000000e+00 0.00000000e+00]\n",
      " [0.00000000e+00 1.00000000e+00 0.00000000e+00 0.00000000e+00\n",
      "  0.00000000e+00 2.93729393e-03 8.91217588e-04]\n",
      " [0.00000000e+00 0.00000000e+00 1.00000000e+00 0.00000000e+00\n",
      "  0.00000000e+00 4.21501166e-03 1.42936416e-03]\n",
      " [0.00000000e+00 1.00000000e+00 0.00000000e+00 0.00000000e+00\n",
      "  0.00000000e+00 6.57311084e-03 2.88723205e-03]\n",
      " [0.00000000e+00 0.00000000e+00 0.00000000e+00 0.00000000e+00\n",
      "  1.00000000e+00 6.51292116e-03 4.23088538e-03]\n",
      " [0.00000000e+00 1.00000000e+00 0.00000000e+00 0.00000000e+00\n",
      "  0.00000000e+00 7.42650233e-03 4.43415944e-03]\n",
      " [0.00000000e+00 0.00000000e+00 1.00000000e+00 0.00000000e+00\n",
      "  0.00000000e+00 1.77834187e-02 4.70429070e-03]\n",
      " [0.00000000e+00 1.00000000e+00 0.00000000e+00 0.00000000e+00\n",
      "  0.00000000e+00 8.14777173e-03 5.34013845e-03]\n",
      " [0.00000000e+00 0.00000000e+00 1.00000000e+00 0.00000000e+00\n",
      "  0.00000000e+00 6.08597937e-03 6.74657405e-03]\n",
      " [0.00000000e+00 1.00000000e+00 0.00000000e+00 0.00000000e+00\n",
      "  0.00000000e+00 1.27151001e-02 9.80616399e-03]\n",
      " [1.00000000e+00 0.00000000e+00 0.00000000e+00 0.00000000e+00\n",
      "  0.00000000e+00 1.90684100e-02 1.04577777e-02]\n",
      " [0.00000000e+00 0.00000000e+00 1.00000000e+00 0.00000000e+00\n",
      "  0.00000000e+00 1.89855393e-02 1.48319012e-02]\n",
      " [0.00000000e+00 1.00000000e+00 0.00000000e+00 0.00000000e+00\n",
      "  0.00000000e+00 1.09502864e-02 1.87106159e-02]\n",
      " [0.00000000e+00 0.00000000e+00 0.00000000e+00 0.00000000e+00\n",
      "  1.00000000e+00 1.53331309e-01 1.87629889e-02]\n",
      " [0.00000000e+00 0.00000000e+00 0.00000000e+00 1.00000000e+00\n",
      "  0.00000000e+00 4.06484927e-02 4.38974280e-02]\n",
      " [0.00000000e+00 0.00000000e+00 0.00000000e+00 0.00000000e+00\n",
      "  1.00000000e+00 1.10532810e-01 7.40529425e-02]\n",
      " [0.00000000e+00 1.00000000e+00 0.00000000e+00 0.00000000e+00\n",
      "  0.00000000e+00 2.04833000e-02 9.00404101e-02]\n",
      " [0.00000000e+00 0.00000000e+00 0.00000000e+00 0.00000000e+00\n",
      "  1.00000000e+00 1.00000000e+00 1.55877305e-01]\n",
      " [0.00000000e+00 1.00000000e+00 0.00000000e+00 0.00000000e+00\n",
      "  0.00000000e+00 2.66741857e-01 4.22606052e-01]\n",
      " [0.00000000e+00 0.00000000e+00 1.00000000e+00 0.00000000e+00\n",
      "  0.00000000e+00 6.92833799e-01 1.00000000e+00]]\n"
     ]
    }
   ],
   "source": [
    "Data = np.append(encoded, volume, axis=1)\n",
    "Data = np.append(Data, market_cap, axis=1)\n",
    "print(Data)"
   ]
  },
  {
   "cell_type": "code",
   "execution_count": 9,
   "id": "c9c88793",
   "metadata": {},
   "outputs": [
    {
     "name": "stdout",
     "output_type": "stream",
     "text": [
      "(20, 7)\n",
      "(190,)\n"
     ]
    }
   ],
   "source": [
    "print(Data.shape)\n",
    "dist = pdist(Data, metric='euclidean')\n",
    "print(dist.shape)"
   ]
  },
  {
   "cell_type": "code",
   "execution_count": 10,
   "id": "6d8c9fa8",
   "metadata": {},
   "outputs": [
    {
     "data": {
      "image/png": "[encoded data removed]",
      "text/plain": [
       "<Figure size 640x480 with 1 Axes>"
      ]
     },
     "metadata": {},
     "output_type": "display_data"
    }
   ],
   "source": [
    "linkage_data = linkage(dist, method='ward', metric='euclidean')\n",
    "dendrogram(linkage_data)\n",
    "\n",
    "plt.show()"
   ]
  },
  {
   "cell_type": "code",
   "execution_count": 19,
   "id": "bc2f677f",
   "metadata": {},
   "outputs": [],
   "source": [
    "def rmc(s):\n",
    "    s = float(s.replace(',',''))\n",
    "    return s"
   ]
  },
  {
   "cell_type": "code",
   "execution_count": 21,
   "id": "9a317a4b",
   "metadata": {},
   "outputs": [
    {
     "name": "stdout",
     "output_type": "stream",
     "text": [
      "[[1.67078479e-06]\n",
      " [1.69582001e-06]\n",
      " [0.00000000e+00]\n",
      " [7.32104813e-07]\n",
      " [9.07025933e-06]]\n"
     ]
    }
   ],
   "source": [
    "totalsupply = np.array(df['TotalSupply'])\n",
    "totalsupply = np.array(list(map(rmc, totalsupply)))\n",
    "totalsupply = (totalsupply - np.min(totalsupply)) / (np.max(totalsupply) - np.min(totalsupply))\n",
    "totalsupply = np.expand_dims(totalsupply, 1)\n",
    "print(totalsupply[:5])"
   ]
  },
  {
   "cell_type": "code",
   "execution_count": 22,
   "id": "520fe006",
   "metadata": {},
   "outputs": [
    {
     "name": "stdout",
     "output_type": "stream",
     "text": [
      "[[0. 0. 0. 0. 0. 1. 0. 0. 0. 0. 0. 0.]\n",
      " [0. 0. 0. 0. 0. 1. 0. 0. 0. 0. 0. 0.]\n",
      " [0. 0. 0. 0. 0. 1. 0. 0. 0. 0. 0. 0.]\n",
      " [1. 0. 0. 0. 0. 0. 0. 0. 0. 0. 0. 0.]\n",
      " [0. 0. 0. 0. 0. 1. 0. 0. 0. 0. 0. 0.]\n",
      " [0. 0. 0. 0. 0. 1. 0. 0. 0. 0. 0. 0.]\n",
      " [0. 0. 0. 0. 0. 0. 1. 0. 0. 0. 0. 0.]\n",
      " [0. 0. 0. 0. 0. 0. 0. 0. 0. 0. 1. 0.]\n",
      " [0. 0. 0. 0. 0. 0. 0. 1. 0. 0. 0. 0.]\n",
      " [0. 0. 0. 0. 0. 0. 0. 0. 1. 0. 0. 0.]\n",
      " [0. 0. 0. 0. 0. 0. 0. 0. 0. 1. 0. 0.]\n",
      " [0. 0. 0. 0. 1. 0. 0. 0. 0. 0. 0. 0.]\n",
      " [0. 0. 0. 1. 0. 0. 0. 0. 0. 0. 0. 0.]\n",
      " [0. 1. 0. 0. 0. 0. 0. 0. 0. 0. 0. 0.]\n",
      " [0. 0. 0. 0. 0. 0. 0. 0. 0. 0. 0. 1.]\n",
      " [0. 0. 0. 0. 0. 1. 0. 0. 0. 0. 0. 0.]\n",
      " [0. 1. 0. 0. 0. 0. 0. 0. 0. 0. 0. 0.]\n",
      " [0. 0. 0. 0. 0. 1. 0. 0. 0. 0. 0. 0.]\n",
      " [0. 0. 0. 0. 0. 1. 0. 0. 0. 0. 0. 0.]\n",
      " [0. 0. 1. 0. 0. 0. 0. 0. 0. 0. 0. 0.]]\n"
     ]
    }
   ],
   "source": [
    "encoder = OneHotEncoder()\n",
    "encoded = encoder.fit_transform(np.array(df['Network']).reshape(-1,1)).toarray()\n",
    "print(encoded)"
   ]
  },
  {
   "cell_type": "code",
   "execution_count": 23,
   "id": "82fec144",
   "metadata": {},
   "outputs": [
    {
     "name": "stdout",
     "output_type": "stream",
     "text": [
      "[[0.00000000e+00 0.00000000e+00 0.00000000e+00 0.00000000e+00\n",
      "  0.00000000e+00 1.00000000e+00 0.00000000e+00 0.00000000e+00\n",
      "  0.00000000e+00 0.00000000e+00 0.00000000e+00 0.00000000e+00\n",
      "  0.00000000e+00 0.00000000e+00]\n",
      " [0.00000000e+00 0.00000000e+00 0.00000000e+00 0.00000000e+00\n",
      "  0.00000000e+00 1.00000000e+00 0.00000000e+00 0.00000000e+00\n",
      "  0.00000000e+00 0.00000000e+00 0.00000000e+00 0.00000000e+00\n",
      "  2.93729393e-03 8.91217588e-04]\n",
      " [0.00000000e+00 0.00000000e+00 0.00000000e+00 0.00000000e+00\n",
      "  0.00000000e+00 1.00000000e+00 0.00000000e+00 0.00000000e+00\n",
      "  0.00000000e+00 0.00000000e+00 0.00000000e+00 0.00000000e+00\n",
      "  4.21501166e-03 1.42936416e-03]\n",
      " [1.00000000e+00 0.00000000e+00 0.00000000e+00 0.00000000e+00\n",
      "  0.00000000e+00 0.00000000e+00 0.00000000e+00 0.00000000e+00\n",
      "  0.00000000e+00 0.00000000e+00 0.00000000e+00 0.00000000e+00\n",
      "  6.57311084e-03 2.88723205e-03]\n",
      " [0.00000000e+00 0.00000000e+00 0.00000000e+00 0.00000000e+00\n",
      "  0.00000000e+00 1.00000000e+00 0.00000000e+00 0.00000000e+00\n",
      "  0.00000000e+00 0.00000000e+00 0.00000000e+00 0.00000000e+00\n",
      "  6.51292116e-03 4.23088538e-03]\n",
      " [0.00000000e+00 0.00000000e+00 0.00000000e+00 0.00000000e+00\n",
      "  0.00000000e+00 1.00000000e+00 0.00000000e+00 0.00000000e+00\n",
      "  0.00000000e+00 0.00000000e+00 0.00000000e+00 0.00000000e+00\n",
      "  7.42650233e-03 4.43415944e-03]\n",
      " [0.00000000e+00 0.00000000e+00 0.00000000e+00 0.00000000e+00\n",
      "  0.00000000e+00 0.00000000e+00 1.00000000e+00 0.00000000e+00\n",
      "  0.00000000e+00 0.00000000e+00 0.00000000e+00 0.00000000e+00\n",
      "  1.77834187e-02 4.70429070e-03]\n",
      " [0.00000000e+00 0.00000000e+00 0.00000000e+00 0.00000000e+00\n",
      "  0.00000000e+00 0.00000000e+00 0.00000000e+00 0.00000000e+00\n",
      "  0.00000000e+00 0.00000000e+00 1.00000000e+00 0.00000000e+00\n",
      "  8.14777173e-03 5.34013845e-03]\n",
      " [0.00000000e+00 0.00000000e+00 0.00000000e+00 0.00000000e+00\n",
      "  0.00000000e+00 0.00000000e+00 0.00000000e+00 1.00000000e+00\n",
      "  0.00000000e+00 0.00000000e+00 0.00000000e+00 0.00000000e+00\n",
      "  6.08597937e-03 6.74657405e-03]\n",
      " [0.00000000e+00 0.00000000e+00 0.00000000e+00 0.00000000e+00\n",
      "  0.00000000e+00 0.00000000e+00 0.00000000e+00 0.00000000e+00\n",
      "  1.00000000e+00 0.00000000e+00 0.00000000e+00 0.00000000e+00\n",
      "  1.27151001e-02 9.80616399e-03]\n",
      " [0.00000000e+00 0.00000000e+00 0.00000000e+00 0.00000000e+00\n",
      "  0.00000000e+00 0.00000000e+00 0.00000000e+00 0.00000000e+00\n",
      "  0.00000000e+00 1.00000000e+00 0.00000000e+00 0.00000000e+00\n",
      "  1.90684100e-02 1.04577777e-02]\n",
      " [0.00000000e+00 0.00000000e+00 0.00000000e+00 0.00000000e+00\n",
      "  1.00000000e+00 0.00000000e+00 0.00000000e+00 0.00000000e+00\n",
      "  0.00000000e+00 0.00000000e+00 0.00000000e+00 0.00000000e+00\n",
      "  1.89855393e-02 1.48319012e-02]\n",
      " [0.00000000e+00 0.00000000e+00 0.00000000e+00 1.00000000e+00\n",
      "  0.00000000e+00 0.00000000e+00 0.00000000e+00 0.00000000e+00\n",
      "  0.00000000e+00 0.00000000e+00 0.00000000e+00 0.00000000e+00\n",
      "  1.09502864e-02 1.87106159e-02]\n",
      " [0.00000000e+00 1.00000000e+00 0.00000000e+00 0.00000000e+00\n",
      "  0.00000000e+00 0.00000000e+00 0.00000000e+00 0.00000000e+00\n",
      "  0.00000000e+00 0.00000000e+00 0.00000000e+00 0.00000000e+00\n",
      "  1.53331309e-01 1.87629889e-02]\n",
      " [0.00000000e+00 0.00000000e+00 0.00000000e+00 0.00000000e+00\n",
      "  0.00000000e+00 0.00000000e+00 0.00000000e+00 0.00000000e+00\n",
      "  0.00000000e+00 0.00000000e+00 0.00000000e+00 1.00000000e+00\n",
      "  4.06484927e-02 4.38974280e-02]\n",
      " [0.00000000e+00 0.00000000e+00 0.00000000e+00 0.00000000e+00\n",
      "  0.00000000e+00 1.00000000e+00 0.00000000e+00 0.00000000e+00\n",
      "  0.00000000e+00 0.00000000e+00 0.00000000e+00 0.00000000e+00\n",
      "  1.10532810e-01 7.40529425e-02]\n",
      " [0.00000000e+00 1.00000000e+00 0.00000000e+00 0.00000000e+00\n",
      "  0.00000000e+00 0.00000000e+00 0.00000000e+00 0.00000000e+00\n",
      "  0.00000000e+00 0.00000000e+00 0.00000000e+00 0.00000000e+00\n",
      "  2.04833000e-02 9.00404101e-02]\n",
      " [0.00000000e+00 0.00000000e+00 0.00000000e+00 0.00000000e+00\n",
      "  0.00000000e+00 1.00000000e+00 0.00000000e+00 0.00000000e+00\n",
      "  0.00000000e+00 0.00000000e+00 0.00000000e+00 0.00000000e+00\n",
      "  1.00000000e+00 1.55877305e-01]\n",
      " [0.00000000e+00 0.00000000e+00 0.00000000e+00 0.00000000e+00\n",
      "  0.00000000e+00 1.00000000e+00 0.00000000e+00 0.00000000e+00\n",
      "  0.00000000e+00 0.00000000e+00 0.00000000e+00 0.00000000e+00\n",
      "  2.66741857e-01 4.22606052e-01]\n",
      " [0.00000000e+00 0.00000000e+00 1.00000000e+00 0.00000000e+00\n",
      "  0.00000000e+00 0.00000000e+00 0.00000000e+00 0.00000000e+00\n",
      "  0.00000000e+00 0.00000000e+00 0.00000000e+00 0.00000000e+00\n",
      "  6.92833799e-01 1.00000000e+00]]\n"
     ]
    }
   ],
   "source": [
    "Data = np.append(encoded, volume, axis=1)\n",
    "Data = np.append(Data, market_cap, axis=1)\n",
    "print(Data)"
   ]
  },
  {
   "cell_type": "code",
   "execution_count": 24,
   "id": "c0a6c963",
   "metadata": {},
   "outputs": [
    {
     "name": "stdout",
     "output_type": "stream",
     "text": [
      "(20, 14)\n",
      "(190,)\n"
     ]
    }
   ],
   "source": [
    "print(Data.shape)\n",
    "dist = pdist(Data, metric='euclidean')\n",
    "print(dist.shape)"
   ]
  },
  {
   "cell_type": "code",
   "execution_count": 25,
   "id": "aa1e44be",
   "metadata": {},
   "outputs": [
    {
     "data": {
      "image/png": "[encoded data removed]",
      "text/plain": [
       "<Figure size 640x480 with 1 Axes>"
      ]
     },
     "metadata": {},
     "output_type": "display_data"
    }
   ],
   "source": [
    "linkage_data = linkage(dist, method='ward', metric='euclidean')\n",
    "dendrogram(linkage_data)\n",
    "\n",
    "plt.show()"
   ]
  },
  {
   "cell_type": "code",
   "execution_count": 26,
   "id": "09341500",
   "metadata": {},
   "outputs": [
    {
     "name": "stdout",
     "output_type": "stream",
     "text": [
      "[[1.67078479e-06 0.00000000e+00 0.00000000e+00]\n",
      " [1.69582001e-06 2.93729393e-03 8.91217588e-04]\n",
      " [0.00000000e+00 4.21501166e-03 1.42936416e-03]\n",
      " [7.32104813e-07 6.57311084e-03 2.88723205e-03]\n",
      " [9.07025933e-06 6.51292116e-03 4.23088538e-03]\n",
      " [1.00000000e+00 7.42650233e-03 4.43415944e-03]\n",
      " [1.42195476e-07 1.77834187e-02 4.70429070e-03]\n",
      " [1.50946908e-04 8.14777173e-03 5.34013845e-03]\n",
      " [2.31350827e-06 6.08597937e-03 6.74657405e-03]\n",
      " [1.69606899e-05 1.27151001e-02 9.80616399e-03]\n",
      " [9.48705780e-07 1.90684100e-02 1.04577777e-02]\n",
      " [2.39725069e-04 1.89855393e-02 1.48319012e-02]\n",
      " [6.14735387e-05 1.09502864e-02 1.87106159e-02]\n",
      " [3.75460367e-06 1.53331309e-01 1.87629889e-02]\n",
      " [1.69589682e-04 4.06484927e-02 4.38974280e-02]\n",
      " [4.33185739e-05 1.10532810e-01 7.40529425e-02]\n",
      " [2.60660430e-07 2.04833000e-02 9.00404101e-02]\n",
      " [1.46905189e-06 1.00000000e+00 1.55877305e-01]\n",
      " [2.03677628e-07 2.66741857e-01 4.22606052e-01]\n",
      " [3.28115190e-08 6.92833799e-01 1.00000000e+00]]\n"
     ]
    }
   ],
   "source": [
    "Data = np.append(totalsupply, volume, axis=1)\n",
    "Data = np.append(Data, market_cap, axis=1)\n",
    "print(Data)"
   ]
  },
  {
   "cell_type": "code",
   "execution_count": 27,
   "id": "2d79d52f",
   "metadata": {},
   "outputs": [
    {
     "name": "stdout",
     "output_type": "stream",
     "text": [
      "(20, 3)\n",
      "(190,)\n"
     ]
    }
   ],
   "source": [
    "print(Data.shape)\n",
    "dist = pdist(Data, metric='euclidean')\n",
    "print(dist.shape)"
   ]
  },
  {
   "cell_type": "code",
   "execution_count": 28,
   "id": "f3c8ddae",
   "metadata": {},
   "outputs": [
    {
     "data": {
      "image/png": "[encoded data removed]",
      "text/plain": [
       "<Figure size 640x480 with 1 Axes>"
      ]
     },
     "metadata": {},
     "output_type": "display_data"
    }
   ],
   "source": [
    "linkage_data = linkage(dist, method='ward', metric='euclidean')\n",
    "dendrogram(linkage_data)\n",
    "\n",
    "plt.show()"
   ]
  },
  {
   "cell_type": "code",
   "execution_count": null,
   "id": "cc6e9aff",
   "metadata": {},
   "outputs": [],
   "source": []
  }
 ],
 "metadata": {
  "kernelspec": {
   "display_name": "Python 3 (ipykernel)",
   "language": "python",
   "name": "python3"
  },
  "language_info": {
   "codemirror_mode": {
    "name": "ipython",
    "version": 3
   },
   "file_extension": ".py",
   "mimetype": "text/x-python",
   "name": "python",
   "nbconvert_exporter": "python",
   "pygments_lexer": "ipython3",
   "version": "3.9.12"
  }
 },
 "nbformat": 4,
 "nbformat_minor": 5
}
